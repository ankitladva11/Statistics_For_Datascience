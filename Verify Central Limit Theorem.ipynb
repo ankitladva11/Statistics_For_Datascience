{
  "nbformat": 4,
  "nbformat_minor": 0,
  "metadata": {
    "colab": {
      "provenance": []
    },
    "kernelspec": {
      "name": "python3",
      "display_name": "Python 3"
    },
    "language_info": {
      "name": "python"
    }
  },
  "cells": [
    {
      "cell_type": "code",
      "metadata": {
        "id": "EsuGpFp8e2bx"
      },
      "source": [
        "from matplotlib import pyplot as plt\n",
        "import numpy as np\n",
        "import statistics as st\n",
        "import random"
      ],
      "execution_count": null,
      "outputs": []
    },
    {
      "cell_type": "markdown",
      "source": [
        "Solution 1"
      ],
      "metadata": {
        "id": "DZsLHG2yGY22"
      }
    },
    {
      "cell_type": "code",
      "metadata": {
        "colab": {
          "base_uri": "https://localhost:8080/"
        },
        "id": "RCo_yC8Ge1aP",
        "outputId": "cec5b0ab-917f-4206-e642-81ee120692b5"
      },
      "source": [
        "import random\n",
        "print(random.randint(0,100))"
      ],
      "execution_count": null,
      "outputs": [
        {
          "output_type": "stream",
          "name": "stdout",
          "text": [
            "85\n"
          ]
        }
      ]
    },
    {
      "cell_type": "markdown",
      "metadata": {
        "id": "g0iivHeVfZge"
      },
      "source": [
        "Solution 2"
      ]
    },
    {
      "cell_type": "code",
      "metadata": {
        "colab": {
          "base_uri": "https://localhost:8080/"
        },
        "id": "hEZ_5WKLfYsz",
        "outputId": "bdb0e533-7116-4d61-c71f-66dfdbb3c4a9"
      },
      "source": [
        "print(random.uniform(0,100))"
      ],
      "execution_count": null,
      "outputs": [
        {
          "output_type": "stream",
          "name": "stdout",
          "text": [
            "71.29393461409109\n"
          ]
        }
      ]
    },
    {
      "cell_type": "markdown",
      "metadata": {
        "id": "koKJ8DmZfkfy"
      },
      "source": [
        "Solution 3\n"
      ]
    },
    {
      "cell_type": "code",
      "metadata": {
        "colab": {
          "base_uri": "https://localhost:8080/"
        },
        "id": "0QqUEK3WfnX_",
        "outputId": "832cb556-6991-4a42-b95b-b8de5b7739aa"
      },
      "source": [
        "population = []\n",
        "for i in range(1001):\n",
        "  p = random.randint(0,100)\n",
        "  population.append(p)\n",
        "print(population)"
      ],
      "execution_count": null,
      "outputs": [
        {
          "output_type": "stream",
          "name": "stdout",
          "text": [
            "[26, 19, 18, 18, 23, 75, 77, 28, 59, 92, 21, 13, 26, 60, 12, 90, 45, 30, 46, 62, 12, 74, 42, 98, 0, 38, 29, 32, 27, 41, 7, 11, 39, 91, 88, 36, 99, 43, 16, 33, 65, 34, 2, 57, 87, 71, 59, 35, 45, 91, 58, 75, 76, 66, 87, 17, 92, 1, 24, 70, 31, 30, 35, 42, 90, 11, 86, 75, 38, 12, 88, 49, 0, 49, 35, 38, 54, 48, 76, 2, 52, 19, 8, 27, 89, 3, 51, 60, 30, 15, 41, 38, 87, 13, 34, 51, 12, 28, 41, 53, 100, 23, 52, 58, 66, 66, 35, 43, 9, 50, 0, 30, 30, 71, 10, 68, 1, 50, 16, 3, 64, 6, 64, 53, 47, 76, 75, 25, 68, 67, 95, 21, 70, 83, 35, 97, 0, 22, 97, 3, 76, 100, 83, 85, 96, 59, 98, 11, 17, 64, 88, 92, 75, 50, 75, 73, 76, 10, 80, 12, 12, 62, 80, 84, 69, 85, 65, 4, 48, 76, 61, 98, 18, 26, 9, 69, 99, 85, 79, 14, 74, 58, 24, 4, 80, 90, 34, 61, 15, 14, 50, 68, 80, 7, 84, 70, 78, 45, 98, 11, 38, 97, 53, 99, 62, 25, 68, 33, 55, 77, 57, 72, 43, 77, 62, 31, 89, 5, 60, 63, 10, 84, 13, 2, 57, 36, 33, 91, 95, 46, 29, 29, 35, 45, 32, 80, 58, 77, 88, 41, 60, 50, 12, 49, 98, 67, 73, 44, 16, 9, 61, 20, 98, 13, 42, 66, 90, 86, 63, 15, 54, 35, 71, 95, 14, 82, 44, 34, 21, 71, 15, 83, 61, 14, 88, 56, 71, 38, 4, 59, 7, 19, 34, 47, 41, 98, 13, 13, 98, 69, 90, 38, 88, 90, 45, 18, 9, 91, 42, 51, 32, 31, 73, 34, 23, 4, 91, 39, 46, 51, 6, 0, 75, 71, 1, 98, 95, 55, 91, 45, 32, 28, 85, 86, 48, 57, 64, 39, 9, 62, 21, 56, 13, 4, 48, 43, 57, 61, 35, 65, 20, 88, 80, 90, 73, 45, 48, 89, 12, 68, 89, 38, 2, 32, 0, 70, 9, 42, 9, 54, 64, 5, 48, 71, 57, 29, 79, 39, 69, 58, 40, 79, 16, 61, 90, 1, 55, 17, 79, 28, 23, 64, 97, 53, 85, 97, 16, 84, 16, 96, 51, 31, 77, 53, 37, 89, 37, 7, 55, 20, 31, 100, 80, 16, 79, 44, 89, 40, 94, 54, 33, 42, 38, 63, 13, 4, 1, 71, 58, 17, 45, 5, 100, 6, 39, 0, 0, 26, 10, 30, 64, 32, 55, 91, 67, 31, 21, 21, 27, 78, 10, 87, 59, 92, 97, 16, 36, 46, 34, 15, 44, 36, 97, 28, 62, 72, 54, 45, 5, 98, 99, 1, 14, 76, 3, 65, 95, 78, 64, 73, 4, 91, 26, 90, 61, 45, 63, 32, 38, 39, 56, 46, 6, 100, 69, 11, 86, 74, 56, 29, 84, 43, 79, 11, 91, 45, 25, 72, 97, 58, 60, 66, 72, 40, 57, 70, 17, 54, 90, 77, 73, 43, 9, 1, 26, 100, 17, 39, 85, 25, 91, 64, 93, 62, 7, 99, 5, 7, 13, 20, 56, 68, 83, 69, 100, 71, 85, 39, 45, 98, 56, 69, 55, 97, 38, 50, 41, 54, 89, 44, 50, 17, 40, 30, 1, 14, 75, 43, 38, 41, 32, 57, 67, 50, 83, 37, 70, 95, 8, 90, 21, 40, 100, 47, 42, 51, 65, 83, 14, 39, 82, 81, 86, 21, 10, 23, 9, 83, 74, 58, 20, 75, 27, 5, 33, 92, 77, 38, 20, 95, 100, 94, 60, 86, 17, 37, 22, 91, 45, 10, 97, 27, 95, 73, 81, 14, 22, 1, 26, 70, 29, 29, 2, 33, 50, 59, 87, 97, 85, 78, 3, 93, 94, 51, 0, 73, 88, 17, 100, 56, 93, 29, 99, 33, 25, 80, 81, 78, 40, 68, 39, 27, 91, 98, 39, 16, 10, 45, 17, 92, 13, 4, 92, 53, 98, 11, 30, 92, 10, 52, 29, 32, 62, 22, 26, 8, 31, 3, 99, 47, 94, 94, 19, 41, 76, 71, 54, 20, 92, 93, 92, 28, 12, 29, 59, 66, 38, 72, 61, 50, 92, 23, 36, 53, 44, 58, 52, 96, 13, 20, 12, 77, 89, 3, 85, 46, 66, 46, 20, 63, 35, 45, 96, 19, 79, 31, 73, 97, 89, 53, 82, 27, 67, 26, 14, 6, 24, 70, 11, 53, 30, 71, 9, 72, 50, 41, 6, 72, 5, 27, 99, 93, 36, 62, 25, 86, 92, 16, 18, 76, 29, 21, 46, 61, 14, 15, 12, 94, 6, 61, 97, 28, 19, 82, 13, 44, 61, 35, 70, 67, 63, 31, 35, 62, 16, 47, 100, 67, 67, 16, 81, 55, 82, 67, 77, 22, 18, 87, 87, 71, 95, 49, 43, 24, 55, 49, 78, 45, 85, 49, 86, 78, 15, 2, 41, 23, 47, 85, 25, 61, 19, 59, 31, 52, 2, 88, 64, 70, 48, 41, 98, 45, 31, 76, 0, 30, 43, 23, 54, 59, 20, 39, 15, 73, 36, 99, 17, 58, 95, 2, 35, 72, 43, 75, 80, 49, 74, 19, 32, 78, 73, 60, 43, 91, 55, 93, 4, 66, 92, 63, 16, 57, 61, 18, 1, 15, 30, 88, 60, 32, 13, 41, 26, 92, 80, 44, 93, 32, 51, 49, 58, 77, 35, 9, 89, 81, 6, 43, 78, 96, 33, 63, 21, 76, 46, 70, 38, 85, 94, 46, 76, 32, 34, 32, 20, 97, 63, 72, 66, 28, 81, 48, 1, 80, 73, 68, 24, 100, 6, 45, 50, 55, 30, 51, 27, 68, 50, 63, 29, 40, 81, 87, 31, 47, 56, 80, 20, 59, 97, 72, 38, 3, 98, 6, 74, 99, 59, 0, 10, 56, 3, 73, 36, 58, 1, 35, 19, 11, 61, 40, 99, 84, 88, 14, 68, 91, 23, 76, 1, 79, 18, 33, 11, 41, 8, 89, 44, 39, 1, 22, 24, 96, 30, 26, 98, 70, 64, 17, 100, 69, 8]\n"
          ]
        }
      ]
    },
    {
      "cell_type": "markdown",
      "metadata": {
        "id": "RgHTeRgzf-QZ"
      },
      "source": [
        "Solution 4"
      ]
    },
    {
      "cell_type": "code",
      "metadata": {
        "colab": {
          "base_uri": "https://localhost:8080/",
          "height": 446
        },
        "id": "6OEdMKFWf_y9",
        "outputId": "cb0159ce-e911-4e3c-92b8-d0c2351d8d67"
      },
      "source": [
        "fig, ax = plt.subplots(figsize = (10, 7))\n",
        "ax.hist(population, bins = 500)\n",
        "print(\"Histogram of population is shown below: \")\n",
        "plt.show()"
      ],
      "execution_count": null,
      "outputs": [
        {
          "output_type": "stream",
          "name": "stdout",
          "text": [
            "Histogram of population is shown below: \n"
          ]
        },
        {
          "output_type": "display_data",
          "data": {
            "image/png": "[encoded data removed]",
            "text/plain": [
              "<Figure size 720x504 with 1 Axes>"
            ]
          },
          "metadata": {
            "needs_background": "light"
          }
        }
      ]
    },
    {
      "cell_type": "markdown",
      "metadata": {
        "id": "0Lz9ny4xgJ4X"
      },
      "source": [
        "Solution 5"
      ]
    },
    {
      "cell_type": "code",
      "metadata": {
        "colab": {
          "base_uri": "https://localhost:8080/"
        },
        "id": "mQjSX2AWgMUV",
        "outputId": "482b5ff0-6843-4454-a5eb-2c34d2e8dce1"
      },
      "source": [
        "population=[26, 19, 18, 18, 23, 75, 77, 28, 59, 92, 21, 13, 26, 60, 12, 90, 45, 30, 46, 62, 12, 74, 42, 98, 0, 38, 29, 32, 27, 41, 7, 11, 39, 91, 88, 36, 99, 43, 16, 33, 65, 34, 2, 57, 87, 71, 59, 35, 45, 91, 58, 75, 76, 66, 87, 17, 92, 1, 24, 70, 31, 30, 35, 42, 90, 11, 86, 75, 38, 12, 88, 49, 0, 49, 35, 38, 54, 48, 76, 2, 52, 19, 8, 27, 89, 3, 51, 60, 30, 15, 41, 38, 87, 13, 34, 51, 12, 28, 41, 53, 100, 23, 52, 58, 66, 66, 35, 43, 9, 50, 0, 30, 30, 71, 10, 68, 1, 50, 16, 3, 64, 6, 64, 53, 47, 76, 75, 25, 68, 67, 95, 21, 70, 83, 35, 97, 0, 22, 97, 3, 76, 100, 83, 85, 96, 59, 98, 11, 17, 64, 88, 92, 75, 50, 75, 73, 76, 10, 80, 12, 12, 62, 80, 84, 69, 85, 65, 4, 48, 76, 61, 98, 18, 26, 9, 69, 99, 85, 79, 14, 74, 58, 24, 4, 80, 90, 34, 61, 15, 14, 50, 68, 80, 7, 84, 70, 78, 45, 98, 11, 38, 97, 53, 99, 62, 25, 68, 33, 55, 77, 57, 72, 43, 77, 62, 31, 89, 5, 60, 63, 10, 84, 13, 2, 57, 36, 33, 91, 95, 46, 29, 29, 35, 45, 32, 80, 58, 77, 88, 41, 60, 50, 12, 49, 98, 67, 73, 44, 16, 9, 61, 20, 98, 13, 42, 66, 90, 86, 63, 15, 54, 35, 71, 95, 14, 82, 44, 34, 21, 71, 15, 83, 61, 14, 88, 56, 71, 38, 4, 59, 7, 19, 34, 47, 41, 98, 13, 13, 98, 69, 90, 38, 88, 90, 45, 18, 9, 91, 42, 51, 32, 31, 73, 34, 23, 4, 91, 39, 46, 51, 6, 0, 75, 71, 1, 98, 95, 55, 91, 45, 32, 28, 85, 86, 48, 57, 64, 39, 9, 62, 21, 56, 13, 4, 48, 43, 57, 61, 35, 65, 20, 88, 80, 90, 73, 45, 48, 89, 12, 68, 89, 38, 2, 32, 0, 70, 9, 42, 9, 54, 64, 5, 48, 71, 57, 29, 79, 39, 69, 58, 40, 79, 16, 61, 90, 1, 55, 17, 79, 28, 23, 64, 97, 53, 85, 97, 16, 84, 16, 96, 51, 31, 77, 53, 37, 89, 37, 7, 55, 20, 31, 100, 80, 16, 79, 44, 89, 40, 94, 54, 33, 42, 38, 63, 13, 4, 1, 71, 58, 17, 45, 5, 100, 6, 39, 0, 0, 26, 10, 30, 64, 32, 55, 91, 67, 31, 21, 21, 27, 78, 10, 87, 59, 92, 97, 16, 36, 46, 34, 15, 44, 36, 97, 28, 62, 72, 54, 45, 5, 98, 99, 1, 14, 76, 3, 65, 95, 78, 64, 73, 4, 91, 26, 90, 61, 45, 63, 32, 38, 39, 56, 46, 6, 100, 69, 11, 86, 74, 56, 29, 84, 43, 79, 11, 91, 45, 25, 72, 97, 58, 60, 66, 72, 40, 57, 70, 17, 54, 90, 77, 73, 43, 9, 1, 26, 100, 17, 39, 85, 25, 91, 64, 93, 62, 7, 99, 5, 7, 13, 20, 56, 68, 83, 69, 100, 71, 85, 39, 45, 98, 56, 69, 55, 97, 38, 50, 41, 54, 89, 44, 50, 17, 40, 30, 1, 14, 75, 43, 38, 41, 32, 57, 67, 50, 83, 37, 70, 95, 8, 90, 21, 40, 100, 47, 42, 51, 65, 83, 14, 39, 82, 81, 86, 21, 10, 23, 9, 83, 74, 58, 20, 75, 27, 5, 33, 92, 77, 38, 20, 95, 100, 94, 60, 86, 17, 37, 22, 91, 45, 10, 97, 27, 95, 73, 81, 14, 22, 1, 26, 70, 29, 29, 2, 33, 50, 59, 87, 97, 85, 78, 3, 93, 94, 51, 0, 73, 88, 17, 100, 56, 93, 29, 99, 33, 25, 80, 81, 78, 40, 68, 39, 27, 91, 98, 39, 16, 10, 45, 17, 92, 13, 4, 92, 53, 98, 11, 30, 92, 10, 52, 29, 32, 62, 22, 26, 8, 31, 3, 99, 47, 94, 94, 19, 41, 76, 71, 54, 20, 92, 93, 92, 28, 12, 29, 59, 66, 38, 72, 61, 50, 92, 23, 36, 53, 44, 58, 52, 96, 13, 20, 12, 77, 89, 3, 85, 46, 66, 46, 20, 63, 35, 45, 96, 19, 79, 31, 73, 97, 89, 53, 82, 27, 67, 26, 14, 6, 24, 70, 11, 53, 30, 71, 9, 72, 50, 41, 6, 72, 5, 27, 99, 93, 36, 62, 25, 86, 92, 16, 18, 76, 29, 21, 46, 61, 14, 15, 12, 94, 6, 61, 97, 28, 19, 82, 13, 44, 61, 35, 70, 67, 63, 31, 35, 62, 16, 47, 100, 67, 67, 16, 81, 55, 82, 67, 77, 22, 18, 87, 87, 71, 95, 49, 43, 24, 55, 49, 78, 45, 85, 49, 86, 78, 15, 2, 41, 23, 47, 85, 25, 61, 19, 59, 31, 52, 2, 88, 64, 70, 48, 41, 98, 45, 31, 76, 0, 30, 43, 23, 54, 59, 20, 39, 15, 73, 36, 99, 17, 58, 95, 2, 35, 72, 43, 75, 80, 49, 74, 19, 32, 78, 73, 60, 43, 91, 55, 93, 4, 66, 92, 63, 16, 57, 61, 18, 1, 15, 30, 88, 60, 32, 13, 41, 26, 92, 80, 44, 93, 32, 51, 49, 58, 77, 35, 9, 89, 81, 6, 43, 78, 96, 33, 63, 21, 76, 46, 70, 38, 85, 94, 46, 76, 32, 34, 32, 20, 97, 63, 72, 66, 28, 81, 48, 1, 80, 73, 68, 24, 100, 6, 45, 50, 55, 30, 51, 27, 68, 50, 63, 29, 40, 81, 87, 31, 47, 56, 80, 20, 59, 97, 72, 38, 3, 98, 6, 74, 99, 59, 0, 10, 56, 3, 73, 36, 58, 1, 35, 19, 11, 61, 40, 99, 84, 88, 14, 68, 91, 23, 76, 1, 79, 18, 33, 11, 41, 8, 89, 44, 39, 1, 22, 24, 96, 30, 26, 98, 70, 64, 17, 100, 69, 8]\n",
        "print(\"Mean of population is: \" + str(np.mean(population)))\n",
        "print(\"Variance of population is: \" + str(np.var(population)))"
      ],
      "execution_count": null,
      "outputs": [
        {
          "output_type": "stream",
          "name": "stdout",
          "text": [
            "Mean of population is: 50.413586413586415\n",
            "Variance of population is: 859.8349402844907\n"
          ]
        }
      ]
    },
    {
      "cell_type": "markdown",
      "metadata": {
        "id": "9Ff7VEv3h081"
      },
      "source": [
        "Solution 6\n"
      ]
    },
    {
      "cell_type": "code",
      "metadata": {
        "colab": {
          "base_uri": "https://localhost:8080/"
        },
        "id": "LhkAjUaEh3Mt",
        "outputId": "b359aeb2-453e-4103-c151-8439b7d00db2"
      },
      "source": [
        "population=[26, 19, 18, 18, 23, 75, 77, 28, 59, 92, 21, 13, 26, 60, 12, 90, 45, 30, 46, 62, 12, 74, 42, 98, 0, 38, 29, 32, 27, 41, 7, 11, 39, 91, 88, 36, 99, 43, 16, 33, 65, 34, 2, 57, 87, 71, 59, 35, 45, 91, 58, 75, 76, 66, 87, 17, 92, 1, 24, 70, 31, 30, 35, 42, 90, 11, 86, 75, 38, 12, 88, 49, 0, 49, 35, 38, 54, 48, 76, 2, 52, 19, 8, 27, 89, 3, 51, 60, 30, 15, 41, 38, 87, 13, 34, 51, 12, 28, 41, 53, 100, 23, 52, 58, 66, 66, 35, 43, 9, 50, 0, 30, 30, 71, 10, 68, 1, 50, 16, 3, 64, 6, 64, 53, 47, 76, 75, 25, 68, 67, 95, 21, 70, 83, 35, 97, 0, 22, 97, 3, 76, 100, 83, 85, 96, 59, 98, 11, 17, 64, 88, 92, 75, 50, 75, 73, 76, 10, 80, 12, 12, 62, 80, 84, 69, 85, 65, 4, 48, 76, 61, 98, 18, 26, 9, 69, 99, 85, 79, 14, 74, 58, 24, 4, 80, 90, 34, 61, 15, 14, 50, 68, 80, 7, 84, 70, 78, 45, 98, 11, 38, 97, 53, 99, 62, 25, 68, 33, 55, 77, 57, 72, 43, 77, 62, 31, 89, 5, 60, 63, 10, 84, 13, 2, 57, 36, 33, 91, 95, 46, 29, 29, 35, 45, 32, 80, 58, 77, 88, 41, 60, 50, 12, 49, 98, 67, 73, 44, 16, 9, 61, 20, 98, 13, 42, 66, 90, 86, 63, 15, 54, 35, 71, 95, 14, 82, 44, 34, 21, 71, 15, 83, 61, 14, 88, 56, 71, 38, 4, 59, 7, 19, 34, 47, 41, 98, 13, 13, 98, 69, 90, 38, 88, 90, 45, 18, 9, 91, 42, 51, 32, 31, 73, 34, 23, 4, 91, 39, 46, 51, 6, 0, 75, 71, 1, 98, 95, 55, 91, 45, 32, 28, 85, 86, 48, 57, 64, 39, 9, 62, 21, 56, 13, 4, 48, 43, 57, 61, 35, 65, 20, 88, 80, 90, 73, 45, 48, 89, 12, 68, 89, 38, 2, 32, 0, 70, 9, 42, 9, 54, 64, 5, 48, 71, 57, 29, 79, 39, 69, 58, 40, 79, 16, 61, 90, 1, 55, 17, 79, 28, 23, 64, 97, 53, 85, 97, 16, 84, 16, 96, 51, 31, 77, 53, 37, 89, 37, 7, 55, 20, 31, 100, 80, 16, 79, 44, 89, 40, 94, 54, 33, 42, 38, 63, 13, 4, 1, 71, 58, 17, 45, 5, 100, 6, 39, 0, 0, 26, 10, 30, 64, 32, 55, 91, 67, 31, 21, 21, 27, 78, 10, 87, 59, 92, 97, 16, 36, 46, 34, 15, 44, 36, 97, 28, 62, 72, 54, 45, 5, 98, 99, 1, 14, 76, 3, 65, 95, 78, 64, 73, 4, 91, 26, 90, 61, 45, 63, 32, 38, 39, 56, 46, 6, 100, 69, 11, 86, 74, 56, 29, 84, 43, 79, 11, 91, 45, 25, 72, 97, 58, 60, 66, 72, 40, 57, 70, 17, 54, 90, 77, 73, 43, 9, 1, 26, 100, 17, 39, 85, 25, 91, 64, 93, 62, 7, 99, 5, 7, 13, 20, 56, 68, 83, 69, 100, 71, 85, 39, 45, 98, 56, 69, 55, 97, 38, 50, 41, 54, 89, 44, 50, 17, 40, 30, 1, 14, 75, 43, 38, 41, 32, 57, 67, 50, 83, 37, 70, 95, 8, 90, 21, 40, 100, 47, 42, 51, 65, 83, 14, 39, 82, 81, 86, 21, 10, 23, 9, 83, 74, 58, 20, 75, 27, 5, 33, 92, 77, 38, 20, 95, 100, 94, 60, 86, 17, 37, 22, 91, 45, 10, 97, 27, 95, 73, 81, 14, 22, 1, 26, 70, 29, 29, 2, 33, 50, 59, 87, 97, 85, 78, 3, 93, 94, 51, 0, 73, 88, 17, 100, 56, 93, 29, 99, 33, 25, 80, 81, 78, 40, 68, 39, 27, 91, 98, 39, 16, 10, 45, 17, 92, 13, 4, 92, 53, 98, 11, 30, 92, 10, 52, 29, 32, 62, 22, 26, 8, 31, 3, 99, 47, 94, 94, 19, 41, 76, 71, 54, 20, 92, 93, 92, 28, 12, 29, 59, 66, 38, 72, 61, 50, 92, 23, 36, 53, 44, 58, 52, 96, 13, 20, 12, 77, 89, 3, 85, 46, 66, 46, 20, 63, 35, 45, 96, 19, 79, 31, 73, 97, 89, 53, 82, 27, 67, 26, 14, 6, 24, 70, 11, 53, 30, 71, 9, 72, 50, 41, 6, 72, 5, 27, 99, 93, 36, 62, 25, 86, 92, 16, 18, 76, 29, 21, 46, 61, 14, 15, 12, 94, 6, 61, 97, 28, 19, 82, 13, 44, 61, 35, 70, 67, 63, 31, 35, 62, 16, 47, 100, 67, 67, 16, 81, 55, 82, 67, 77, 22, 18, 87, 87, 71, 95, 49, 43, 24, 55, 49, 78, 45, 85, 49, 86, 78, 15, 2, 41, 23, 47, 85, 25, 61, 19, 59, 31, 52, 2, 88, 64, 70, 48, 41, 98, 45, 31, 76, 0, 30, 43, 23, 54, 59, 20, 39, 15, 73, 36, 99, 17, 58, 95, 2, 35, 72, 43, 75, 80, 49, 74, 19, 32, 78, 73, 60, 43, 91, 55, 93, 4, 66, 92, 63, 16, 57, 61, 18, 1, 15, 30, 88, 60, 32, 13, 41, 26, 92, 80, 44, 93, 32, 51, 49, 58, 77, 35, 9, 89, 81, 6, 43, 78, 96, 33, 63, 21, 76, 46, 70, 38, 85, 94, 46, 76, 32, 34, 32, 20, 97, 63, 72, 66, 28, 81, 48, 1, 80, 73, 68, 24, 100, 6, 45, 50, 55, 30, 51, 27, 68, 50, 63, 29, 40, 81, 87, 31, 47, 56, 80, 20, 59, 97, 72, 38, 3, 98, 6, 74, 99, 59, 0, 10, 56, 3, 73, 36, 58, 1, 35, 19, 11, 61, 40, 99, 84, 88, 14, 68, 91, 23, 76, 1, 79, 18, 33, 11, 41, 8, 89, 44, 39, 1, 22, 24, 96, 30, 26, 98, 70, 64, 17, 100, 69, 8]\n",
        "n = int(input(\"Enter sample size: \"))\n",
        "sample_data = random.sample(tuple(population),n)\n",
        "print(sample_data)\n",
        "print(\"Mean of sample data = \" + str(st.mean(sample_data)))\n",
        "print(\"Variance of sample data = \" + str(st.variance(sample_data)))"
      ],
      "execution_count": null,
      "outputs": [
        {
          "output_type": "stream",
          "name": "stdout",
          "text": [
            "Enter sample size: 40\n",
            "[12, 61, 7, 32, 15, 16, 77, 56, 51, 7, 49, 55, 30, 58, 13, 72, 17, 13, 75, 4, 83, 45, 53, 19, 93, 81, 57, 95, 76, 57, 21, 98, 21, 11, 98, 49, 50, 10, 59, 58]\n",
            "Mean of sample data = 46.35\n",
            "Variance of sample data = 845.9769230769231\n"
          ]
        }
      ]
    },
    {
      "cell_type": "markdown",
      "metadata": {
        "id": "yb3GuD5Rh_mO"
      },
      "source": [
        "Solution 7"
      ]
    },
    {
      "cell_type": "code",
      "metadata": {
        "colab": {
          "base_uri": "https://localhost:8080/"
        },
        "id": "58UPbQlciCKi",
        "outputId": "e2f8ba01-994f-46eb-8f30-21127cea66bb"
      },
      "source": [
        "population=[26, 19, 18, 18, 23, 75, 77, 28, 59, 92, 21, 13, 26, 60, 12, 90, 45, 30, 46, 62, 12, 74, 42, 98, 0, 38, 29, 32, 27, 41, 7, 11, 39, 91, 88, 36, 99, 43, 16, 33, 65, 34, 2, 57, 87, 71, 59, 35, 45, 91, 58, 75, 76, 66, 87, 17, 92, 1, 24, 70, 31, 30, 35, 42, 90, 11, 86, 75, 38, 12, 88, 49, 0, 49, 35, 38, 54, 48, 76, 2, 52, 19, 8, 27, 89, 3, 51, 60, 30, 15, 41, 38, 87, 13, 34, 51, 12, 28, 41, 53, 100, 23, 52, 58, 66, 66, 35, 43, 9, 50, 0, 30, 30, 71, 10, 68, 1, 50, 16, 3, 64, 6, 64, 53, 47, 76, 75, 25, 68, 67, 95, 21, 70, 83, 35, 97, 0, 22, 97, 3, 76, 100, 83, 85, 96, 59, 98, 11, 17, 64, 88, 92, 75, 50, 75, 73, 76, 10, 80, 12, 12, 62, 80, 84, 69, 85, 65, 4, 48, 76, 61, 98, 18, 26, 9, 69, 99, 85, 79, 14, 74, 58, 24, 4, 80, 90, 34, 61, 15, 14, 50, 68, 80, 7, 84, 70, 78, 45, 98, 11, 38, 97, 53, 99, 62, 25, 68, 33, 55, 77, 57, 72, 43, 77, 62, 31, 89, 5, 60, 63, 10, 84, 13, 2, 57, 36, 33, 91, 95, 46, 29, 29, 35, 45, 32, 80, 58, 77, 88, 41, 60, 50, 12, 49, 98, 67, 73, 44, 16, 9, 61, 20, 98, 13, 42, 66, 90, 86, 63, 15, 54, 35, 71, 95, 14, 82, 44, 34, 21, 71, 15, 83, 61, 14, 88, 56, 71, 38, 4, 59, 7, 19, 34, 47, 41, 98, 13, 13, 98, 69, 90, 38, 88, 90, 45, 18, 9, 91, 42, 51, 32, 31, 73, 34, 23, 4, 91, 39, 46, 51, 6, 0, 75, 71, 1, 98, 95, 55, 91, 45, 32, 28, 85, 86, 48, 57, 64, 39, 9, 62, 21, 56, 13, 4, 48, 43, 57, 61, 35, 65, 20, 88, 80, 90, 73, 45, 48, 89, 12, 68, 89, 38, 2, 32, 0, 70, 9, 42, 9, 54, 64, 5, 48, 71, 57, 29, 79, 39, 69, 58, 40, 79, 16, 61, 90, 1, 55, 17, 79, 28, 23, 64, 97, 53, 85, 97, 16, 84, 16, 96, 51, 31, 77, 53, 37, 89, 37, 7, 55, 20, 31, 100, 80, 16, 79, 44, 89, 40, 94, 54, 33, 42, 38, 63, 13, 4, 1, 71, 58, 17, 45, 5, 100, 6, 39, 0, 0, 26, 10, 30, 64, 32, 55, 91, 67, 31, 21, 21, 27, 78, 10, 87, 59, 92, 97, 16, 36, 46, 34, 15, 44, 36, 97, 28, 62, 72, 54, 45, 5, 98, 99, 1, 14, 76, 3, 65, 95, 78, 64, 73, 4, 91, 26, 90, 61, 45, 63, 32, 38, 39, 56, 46, 6, 100, 69, 11, 86, 74, 56, 29, 84, 43, 79, 11, 91, 45, 25, 72, 97, 58, 60, 66, 72, 40, 57, 70, 17, 54, 90, 77, 73, 43, 9, 1, 26, 100, 17, 39, 85, 25, 91, 64, 93, 62, 7, 99, 5, 7, 13, 20, 56, 68, 83, 69, 100, 71, 85, 39, 45, 98, 56, 69, 55, 97, 38, 50, 41, 54, 89, 44, 50, 17, 40, 30, 1, 14, 75, 43, 38, 41, 32, 57, 67, 50, 83, 37, 70, 95, 8, 90, 21, 40, 100, 47, 42, 51, 65, 83, 14, 39, 82, 81, 86, 21, 10, 23, 9, 83, 74, 58, 20, 75, 27, 5, 33, 92, 77, 38, 20, 95, 100, 94, 60, 86, 17, 37, 22, 91, 45, 10, 97, 27, 95, 73, 81, 14, 22, 1, 26, 70, 29, 29, 2, 33, 50, 59, 87, 97, 85, 78, 3, 93, 94, 51, 0, 73, 88, 17, 100, 56, 93, 29, 99, 33, 25, 80, 81, 78, 40, 68, 39, 27, 91, 98, 39, 16, 10, 45, 17, 92, 13, 4, 92, 53, 98, 11, 30, 92, 10, 52, 29, 32, 62, 22, 26, 8, 31, 3, 99, 47, 94, 94, 19, 41, 76, 71, 54, 20, 92, 93, 92, 28, 12, 29, 59, 66, 38, 72, 61, 50, 92, 23, 36, 53, 44, 58, 52, 96, 13, 20, 12, 77, 89, 3, 85, 46, 66, 46, 20, 63, 35, 45, 96, 19, 79, 31, 73, 97, 89, 53, 82, 27, 67, 26, 14, 6, 24, 70, 11, 53, 30, 71, 9, 72, 50, 41, 6, 72, 5, 27, 99, 93, 36, 62, 25, 86, 92, 16, 18, 76, 29, 21, 46, 61, 14, 15, 12, 94, 6, 61, 97, 28, 19, 82, 13, 44, 61, 35, 70, 67, 63, 31, 35, 62, 16, 47, 100, 67, 67, 16, 81, 55, 82, 67, 77, 22, 18, 87, 87, 71, 95, 49, 43, 24, 55, 49, 78, 45, 85, 49, 86, 78, 15, 2, 41, 23, 47, 85, 25, 61, 19, 59, 31, 52, 2, 88, 64, 70, 48, 41, 98, 45, 31, 76, 0, 30, 43, 23, 54, 59, 20, 39, 15, 73, 36, 99, 17, 58, 95, 2, 35, 72, 43, 75, 80, 49, 74, 19, 32, 78, 73, 60, 43, 91, 55, 93, 4, 66, 92, 63, 16, 57, 61, 18, 1, 15, 30, 88, 60, 32, 13, 41, 26, 92, 80, 44, 93, 32, 51, 49, 58, 77, 35, 9, 89, 81, 6, 43, 78, 96, 33, 63, 21, 76, 46, 70, 38, 85, 94, 46, 76, 32, 34, 32, 20, 97, 63, 72, 66, 28, 81, 48, 1, 80, 73, 68, 24, 100, 6, 45, 50, 55, 30, 51, 27, 68, 50, 63, 29, 40, 81, 87, 31, 47, 56, 80, 20, 59, 97, 72, 38, 3, 98, 6, 74, 99, 59, 0, 10, 56, 3, 73, 36, 58, 1, 35, 19, 11, 61, 40, 99, 84, 88, 14, 68, 91, 23, 76, 1, 79, 18, 33, 11, 41, 8, 89, 44, 39, 1, 22, 24, 96, 30, 26, 98, 70, 64, 17, 100, 69, 8]\n",
        "n = int(input(\"Enter sample size: \"))\n",
        "m = int(input(\"Enter number of samples: \"))\n",
        "mean_sample1 = []\n",
        "for i in range(m):\n",
        "  sample_data = random.sample(tuple(population),n)\n",
        "  mean = np.mean(sample_data)\n",
        "  mean_sample1.append(mean)\n",
        "print(mean_sample1)\n",
        "print(\"Mean of Sample mean Distribution is \" + str(np.mean(mean_sample1)))\n",
        "print(\"Variance of Sample mean Distribution is \" + str(np.var(mean_sample1)))"
      ],
      "execution_count": null,
      "outputs": [
        {
          "output_type": "stream",
          "name": "stdout",
          "text": [
            "Enter sample size: 25\n",
            "Enter number of samples: 500\n",
            "[46.24, 51.84, 54.36, 54.16, 43.88, 43.96, 47.2, 53.72, 50.04, 47.32, 47.32, 51.0, 53.04, 56.88, 46.2, 54.92, 56.16, 59.68, 43.76, 41.92, 44.52, 45.04, 48.04, 47.68, 52.36, 46.64, 56.64, 50.12, 48.88, 53.56, 50.72, 58.88, 48.84, 52.64, 45.2, 43.2, 46.6, 54.4, 49.8, 55.8, 49.4, 48.16, 46.68, 50.56, 52.28, 46.76, 63.88, 49.48, 41.68, 54.68, 63.32, 45.52, 48.04, 43.52, 48.8, 48.08, 56.84, 42.0, 57.64, 42.48, 49.8, 60.24, 54.56, 46.4, 57.32, 53.72, 54.32, 48.68, 44.24, 59.24, 62.0, 58.64, 47.36, 49.12, 58.08, 43.56, 52.8, 51.52, 53.28, 47.72, 47.44, 64.64, 45.16, 55.52, 43.12, 52.84, 39.56, 42.36, 55.8, 55.16, 44.96, 52.72, 54.64, 46.76, 52.56, 43.48, 41.36, 60.8, 48.08, 38.72, 56.8, 56.92, 45.28, 58.88, 47.16, 41.4, 54.12, 58.84, 58.64, 55.68, 55.64, 47.0, 49.84, 47.64, 59.84, 63.52, 50.64, 46.2, 45.76, 59.08, 45.8, 54.12, 50.88, 43.92, 55.32, 49.48, 54.04, 50.84, 47.6, 57.52, 36.8, 47.12, 53.84, 57.6, 48.24, 54.08, 48.72, 49.68, 47.48, 45.2, 53.16, 46.4, 58.0, 55.64, 53.56, 49.36, 47.76, 52.68, 46.84, 50.8, 44.6, 47.84, 54.56, 51.08, 51.84, 52.72, 45.12, 54.48, 51.24, 59.44, 52.48, 57.04, 51.24, 52.76, 50.8, 56.16, 45.12, 60.56, 48.6, 53.64, 59.92, 45.56, 47.28, 43.48, 53.96, 54.6, 52.72, 53.04, 34.08, 55.0, 57.04, 56.72, 52.16, 59.04, 48.28, 56.52, 40.72, 57.0, 45.16, 42.24, 42.24, 57.44, 48.6, 52.36, 44.76, 54.72, 47.88, 41.52, 45.8, 52.8, 50.48, 60.08, 41.24, 57.4, 51.84, 47.88, 60.24, 49.56, 50.04, 59.64, 54.0, 45.56, 44.68, 49.0, 41.28, 44.76, 55.24, 49.28, 50.92, 51.8, 62.16, 55.28, 49.32, 45.44, 46.24, 58.32, 44.04, 59.8, 46.2, 44.64, 47.56, 44.36, 61.36, 52.52, 44.68, 53.64, 60.08, 55.84, 46.4, 48.84, 54.96, 53.04, 51.6, 38.52, 56.84, 52.68, 57.28, 46.04, 41.44, 36.8, 46.44, 48.04, 48.0, 47.72, 35.48, 48.76, 39.44, 47.24, 58.92, 54.0, 38.6, 58.2, 50.84, 58.56, 47.4, 47.96, 42.0, 51.4, 33.16, 56.12, 47.4, 49.84, 56.88, 49.64, 50.04, 47.48, 44.0, 53.16, 49.64, 48.04, 44.32, 34.52, 57.88, 44.8, 48.6, 55.2, 42.32, 52.36, 48.76, 56.56, 59.2, 53.0, 45.96, 50.12, 56.52, 43.32, 32.88, 47.32, 53.4, 56.84, 49.92, 54.08, 45.92, 45.48, 59.28, 45.36, 52.2, 47.16, 42.24, 47.08, 46.16, 39.64, 45.8, 54.52, 55.68, 53.48, 38.4, 45.2, 54.04, 54.88, 52.76, 52.44, 57.84, 45.04, 60.28, 52.68, 41.36, 51.12, 63.76, 47.24, 48.96, 56.32, 48.6, 46.8, 57.16, 53.84, 45.16, 52.12, 52.96, 46.16, 48.84, 61.72, 52.4, 53.16, 47.76, 44.4, 44.28, 51.84, 38.56, 48.12, 53.04, 45.76, 48.08, 54.56, 46.16, 58.72, 48.0, 52.4, 58.28, 36.48, 45.16, 52.36, 38.36, 43.56, 54.64, 57.24, 51.16, 52.12, 50.76, 51.96, 55.28, 46.68, 46.76, 44.52, 46.76, 48.08, 58.76, 59.56, 49.56, 49.6, 43.0, 55.6, 56.48, 58.76, 44.56, 45.12, 56.2, 42.64, 53.92, 53.08, 53.0, 48.68, 58.28, 47.52, 41.28, 52.96, 52.8, 50.92, 51.52, 50.24, 57.88, 53.88, 43.72, 60.0, 45.84, 45.04, 49.88, 42.32, 57.36, 53.64, 49.44, 56.92, 50.24, 45.36, 43.24, 42.6, 57.24, 44.32, 40.72, 47.44, 42.44, 52.92, 52.16, 51.4, 47.0, 46.56, 52.96, 50.36, 58.28, 53.44, 53.64, 54.44, 38.24, 51.72, 43.88, 53.44, 44.48, 50.64, 55.2, 57.16, 55.96, 48.52, 54.08, 45.28, 44.72, 50.0, 46.96, 52.12, 50.72, 40.48, 43.04, 43.96, 51.36, 52.0, 37.56, 44.68, 51.88, 50.16, 47.84, 48.32, 43.48, 51.92, 48.28, 63.92, 47.2, 54.0, 38.96, 44.4, 45.68, 45.8, 51.16, 47.4, 40.24, 52.72, 44.72, 52.0, 47.2, 41.44, 43.24, 51.32, 46.64, 55.84, 47.12, 57.44, 58.76, 50.0, 54.6, 51.96, 41.96, 47.32, 52.6, 54.36, 51.0, 50.48, 44.88, 48.64, 43.12, 47.92, 52.4, 50.76]\n",
            "Mean of Sample mean Distribution is 50.133520000000004\n",
            "Variance of Sample mean Distribution is 33.78234200960001\n"
          ]
        }
      ]
    },
    {
      "cell_type": "markdown",
      "metadata": {
        "id": "fTEHR3RSiCm6"
      },
      "source": [
        "Solution 8"
      ]
    },
    {
      "cell_type": "code",
      "metadata": {
        "colab": {
          "base_uri": "https://localhost:8080/",
          "height": 446
        },
        "id": "heGjXbWsiD1_",
        "outputId": "86d3b1b8-520d-4bde-cb42-4664e9c340f6"
      },
      "source": [
        "fig, ax = plt.subplots(figsize = (10, 7))\n",
        "ax.hist(mean_sample1, bins = 500)\n",
        "print(\"Histogram of distrbution of sample mean is shown below: \")\n",
        "plt.show()"
      ],
      "execution_count": null,
      "outputs": [
        {
          "output_type": "stream",
          "name": "stdout",
          "text": [
            "Histogram of distrbution of sample mean is shown below: \n"
          ]
        },
        {
          "output_type": "display_data",
          "data": {
            "image/png": "[encoded data removed]",
            "text/plain": [
              "<Figure size 720x504 with 1 Axes>"
            ]
          },
          "metadata": {
            "needs_background": "light"
          }
        }
      ]
    },
    {
      "cell_type": "markdown",
      "metadata": {
        "id": "JyaYE34HiEst"
      },
      "source": [
        "Solution 9"
      ]
    },
    {
      "cell_type": "code",
      "metadata": {
        "colab": {
          "base_uri": "https://localhost:8080/"
        },
        "id": "g9ZNBdrAiGqy",
        "outputId": "3b4a9ceb-d101-43a2-c304-e2a4f955045b"
      },
      "source": [
        "population2 = []\n",
        "for i in range(1000):\n",
        "  p = random.uniform(0,100)\n",
        "  population2.append(p)\n",
        "print(population2)"
      ],
      "execution_count": null,
      "outputs": [
        {
          "output_type": "stream",
          "name": "stdout",
          "text": [
            "[30.99350278786427, 77.76336930392922, 75.37528308079652, 22.656586714098005, 94.62987471914181, 59.33217421461556, 8.91104895257956, 42.49260100731532, 88.23082605764809, 15.33156090257698, 62.287971617766736, 52.52186403244223, 91.5523944529148, 82.6972527050206, 66.24691047706114, 36.57857001939527, 14.252932566319975, 84.07012188695231, 64.86310632368138, 68.87927163881136, 40.07008894798797, 17.139232589649687, 62.52988649517367, 11.708698342975321, 35.50717363267128, 75.5595996278774, 53.27460615097112, 25.971799622481385, 30.28352140908739, 55.241613380028994, 94.6209342508112, 37.9175193911263, 2.345830106754354, 34.24466785952771, 93.76254481816235, 84.95433669411298, 35.918446941674496, 27.911129221548702, 82.56226924063603, 33.889575481232136, 30.50796172922835, 18.872312311734085, 43.3805180343025, 12.691145550933314, 56.43734327565456, 93.60448087066689, 60.951679709105655, 86.08095804665872, 4.941826565802199, 37.906270114517056, 10.238298075117925, 69.99947532038018, 52.550670295592205, 32.809483144831965, 58.58674481888346, 87.75289930406005, 18.679653967510813, 2.6190194787710896, 95.31230795019259, 59.1975289956751, 77.79718699613696, 19.896889522749895, 86.22128408588657, 23.019950362114383, 25.807706789321795, 45.7221830297686, 14.212634645957378, 35.67177958183802, 21.7052550212276, 72.24963313197745, 9.014240415144714, 89.68408416034671, 26.128159461728252, 39.6993606929665, 99.65952402908704, 4.50709221802208, 43.38997321162207, 31.432245769721025, 51.57413263656206, 17.48919078127561, 32.584413089770855, 91.45778787928775, 18.97992453394073, 91.52023403885691, 61.834342151146224, 45.28441449039215, 49.49261550189068, 6.1840390277194235, 88.297894129248, 91.87432855327377, 53.59414205821829, 87.32558555246548, 54.83576043959748, 34.45316033111025, 74.87133125062525, 86.23983799408093, 18.49320524168041, 49.8236744768535, 45.68643926790853, 76.33855936544532, 23.985876065620502, 83.14680523824339, 74.75365910502192, 27.645943414783837, 90.67593964378908, 96.19773475924906, 73.93167837074215, 65.04367185868092, 78.17890624910468, 53.86635815496068, 8.99071762857282, 32.48478972930931, 91.31595919731687, 66.65386077053236, 6.998871627062364, 24.66367790182663, 39.54420571544628, 96.3469424814847, 79.00617606691932, 58.44876133732894, 48.84653714428925, 20.53873981967986, 77.74694483899323, 82.07770577985933, 68.41536936274885, 57.26137358855225, 76.88854173993622, 85.97090450472577, 95.07015917992062, 26.315036298406714, 40.75312680910271, 31.18447848089089, 81.28070949786735, 38.680670450158615, 91.96756738348124, 17.42394372510192, 41.22872092144221, 23.4550654595701, 47.55248103212, 54.39246318274941, 92.87165382878719, 28.931366307520822, 13.779847900456922, 43.16434745510486, 89.79761285934174, 57.318094462322065, 77.63675039461447, 16.04722330630851, 87.3164611091837, 94.76808935679354, 8.255798813582105, 43.36286973393153, 45.97029222629758, 16.74564090822629, 19.79740011328408, 68.84691108490377, 46.541365313487525, 33.06199172037928, 8.643658371246687, 41.6806532261664, 89.36828701356556, 44.05238467636333, 34.69502022153148, 90.318233142143, 72.65932933994661, 88.35759499198274, 52.01206461425396, 74.78034376031128, 17.988452945079313, 73.34437375218685, 29.768633618275643, 73.42440789891758, 46.28861938410233, 17.447514592910473, 53.28267779154472, 94.40325416022479, 27.89505613285489, 29.20739066965633, 1.4047110016060849, 84.9774245467241, 95.26459693727375, 18.31532542141545, 46.80183127503271, 73.63643754245268, 12.158852486995697, 11.12075564761894, 83.72027036936451, 89.86959703610113, 99.30803938200779, 48.5392204196549, 97.3475220382546, 15.704968526916396, 42.22219616314214, 22.70852349607232, 29.622451233963243, 52.70086063390076, 69.55816865296856, 61.89799956414264, 23.571506296769073, 59.1079096351966, 13.431108976966676, 41.00466230137664, 78.94448548759334, 8.722002930339967, 19.800251715124105, 32.01235247113816, 57.23059358685948, 85.13572116241502, 58.95707077993442, 10.95028743197407, 91.0054602248645, 15.555590296924226, 7.61045939632835, 33.97936738435207, 47.02536031055252, 92.02520480284608, 49.182894046499925, 59.575553318366545, 6.402799599981179, 25.034617725191133, 49.86103502516822, 60.443718573559615, 15.709013163214037, 2.6848101672195424, 7.234306299252569, 25.423923096850487, 16.71988323677549, 55.947121978566905, 21.673502316412485, 44.34857674534211, 58.042109295448974, 10.402220518870509, 68.3698117267761, 28.594325626289418, 71.73964833925054, 41.81488431099273, 60.796416521504995, 18.75077089382974, 24.112032885991784, 68.2677045472116, 26.746518230469306, 42.705024514914356, 70.22202708964377, 30.212998577209017, 97.23866449015533, 19.249719820743884, 94.12511324740683, 23.260537105337075, 6.984840268851977, 46.96905879058766, 38.596913228918915, 45.52120683497207, 44.69975724088461, 49.11929942941301, 79.48622248919038, 82.86357668202398, 63.45482820541213, 88.9433780716434, 54.9441540823607, 67.7704918459145, 90.47190875422316, 71.12648671971425, 35.106738118126, 32.31602058646643, 63.57022614433659, 28.951521803508495, 91.33330872983683, 74.41704523706146, 4.196416746475262, 92.95018376840966, 55.2017291337085, 46.44896052314571, 14.95198579511653, 63.24111495410178, 16.440394159269868, 47.39832071453222, 30.220461310515557, 50.64430076889983, 48.0080901995265, 57.06598751020393, 24.783951203417864, 11.245234024646145, 32.83141824444539, 89.17775485709811, 34.47149930766448, 45.57425140867678, 98.38679253717288, 4.437940793398775, 20.62958863420259, 8.973726049687237, 37.345798476858704, 77.56594145441319, 11.110204385460543, 31.548229681992503, 31.977479871762394, 91.52866087555213, 46.15534391063245, 43.10771437339561, 73.0612330494635, 50.02536137867344, 31.800227015652105, 77.55197198133044, 97.16614700292561, 28.182019930435608, 31.924097261543793, 91.06267241064407, 3.381376779196077, 16.10828589552019, 45.87631301929154, 18.777811203832997, 32.1042379643737, 45.199992656458306, 83.86051658076245, 62.28306834660644, 33.84544485327572, 54.16885911903741, 99.82971605630574, 8.986170781877567, 26.96160625470788, 52.36388844223311, 66.2517948882783, 7.169006164864101, 98.90426179876638, 39.15624737394025, 96.50882655121849, 65.42024643939868, 77.33481036352393, 36.069770241001486, 85.14577372279004, 40.9468002323136, 75.69063057416034, 12.24726412989493, 98.89040463543469, 33.71858103527169, 12.972239228109295, 6.4596353181566535, 95.67894462176443, 67.89646574869035, 59.32437192898918, 51.07547034441349, 62.51948611373458, 1.8766437920417989, 18.736681718878202, 83.73352636281942, 65.2742300447657, 77.42698676270393, 46.18208097175069, 73.30502627024825, 12.835631894137489, 41.05011520279861, 91.74398181986298, 66.96116536932519, 61.59527843152617, 96.45006824695864, 20.88748226340753, 63.91415340392547, 32.61702302833173, 90.76776609379395, 96.6062492231555, 97.89372103622547, 91.91123566322487, 97.75855798768804, 17.43745394111017, 27.62825493289086, 35.94439016429188, 72.88027295845318, 48.21481809350715, 50.59313742643721, 22.73884849835174, 42.07628465853275, 77.08003932270631, 50.81177626790573, 62.36175281315077, 72.18048115792533, 43.92894085140912, 14.999042400518636, 51.98589064723842, 94.1018344159813, 86.67563055286163, 24.305104587157878, 90.03541610758884, 90.41547733321143, 75.06929767349394, 28.146381077263484, 47.53824776977872, 52.88114178596861, 91.53156858773906, 32.85629761260862, 48.2777987828646, 58.57717326076294, 6.646775273610772, 92.15918523041681, 37.212537435378444, 19.570359055691732, 33.14196860709085, 20.724127263129112, 69.10028630496035, 58.48665038753846, 49.007069335985285, 78.04863844360861, 27.966114996243185, 17.370066948642815, 70.88429050269714, 39.76764336710612, 85.50760893436517, 47.83427968805778, 82.02740212241532, 79.31224441154376, 38.17580798781718, 50.293823653118785, 6.757737037372813, 46.702855840495374, 41.961953262669994, 74.02133322455674, 44.150838769262236, 69.04974088878944, 94.25329837542216, 47.59338291832975, 6.473258821375727, 58.42439553240381, 71.73475811352019, 4.320723225110267, 57.743052481216736, 85.42366461436845, 49.48525340527746, 98.68515592715882, 16.274641018609703, 79.62783079326816, 83.78226255738943, 49.92773488971809, 22.136815285488876, 42.88710296264786, 80.09866269758687, 45.5575978900732, 63.98957108689072, 69.276852647342, 49.84341380805808, 90.62956555498485, 86.7474172722902, 94.50116087417597, 20.79733547863586, 5.102547352553321, 79.31357738001859, 20.58206300426162, 80.49956666719876, 62.01582976594137, 73.50365822813058, 83.53074127490056, 67.7527713053706, 13.434202644757454, 92.64511416776661, 47.02430385258277, 31.16601514370212, 35.22698958070683, 36.23235918433938, 9.960602472638524, 51.191307011772466, 75.8296085399344, 24.734430758823233, 58.229736584153876, 23.127656848694677, 2.733027085564377, 39.873888326597175, 51.4998308197154, 25.124262899581762, 20.59572143240417, 98.92014226185535, 94.68904177369198, 87.91759691096375, 20.735100469499724, 13.539972732654759, 65.46688989639658, 60.66772373831076, 72.83117385233292, 23.075803728949694, 75.19438249791209, 94.1738810278751, 78.41973734022469, 27.939397669889022, 94.9475910764552, 41.1194056196796, 33.09091083603245, 3.4448972903883712, 83.5648699438936, 16.91795621955925, 58.87993271315655, 48.23491183556732, 63.54988241982825, 80.52633140892152, 15.617021874111703, 63.09751126620915, 84.38499963175148, 0.9048692489864618, 61.84440384655455, 99.56022181203308, 53.16333991570726, 66.08835807990984, 65.42228139344064, 12.757637059021466, 47.73169169452836, 96.05378718818024, 74.78158340067478, 1.7526161412553698, 42.805089553240585, 72.28074916002544, 82.68844966359141, 46.49175124876268, 99.24152690595986, 65.2981548330289, 88.61410721683546, 70.01909310045508, 23.815524660105105, 20.63777955897279, 17.24154640767932, 80.56889164055839, 86.00773088898308, 81.22260728107912, 29.1005434771505, 63.755140439100245, 51.880109431324826, 66.19514380970554, 32.58332810431255, 49.12981659078319, 73.18647767504713, 20.576316077581126, 90.69525595526244, 55.35686071943018, 32.4054153697865, 63.04030307886298, 82.19529329732498, 78.87405684610943, 97.27412221239953, 52.529973730152655, 26.688026243028553, 40.61403488002294, 37.73750620013671, 1.0496896454618043, 85.23989099844276, 49.02684611760776, 10.465102487230771, 19.912274937565442, 57.43647223422421, 58.619470664958925, 61.77744654784703, 92.2495078225776, 39.54033147096938, 66.12308760299884, 21.05619682864468, 31.408815653940213, 52.64576099707007, 46.12289312760429, 97.12518757604896, 96.85078707940026, 46.50338089155337, 90.66637396826653, 44.61572047158664, 95.19181628377778, 83.154203337373, 91.4750843937484, 43.974760819583004, 98.46335115576774, 14.540900121785006, 44.54354509812788, 56.09826700855643, 99.41980251449208, 90.24934933846048, 67.43032514780047, 93.25329876096079, 83.7862491305033, 13.639765013276117, 86.25232361453776, 23.56701623786106, 23.106397237933873, 20.44235923597798, 53.615319815545725, 26.338091166343748, 55.66005309899252, 58.03472409301605, 0.2210235113332959, 74.68261484747394, 53.852287862983616, 56.40561134913258, 34.659710669585785, 67.6601436633366, 90.93454021943062, 94.0851084520638, 75.42142211319877, 14.830258332696689, 3.775022754699797, 20.65467262234183, 75.77165517414828, 73.68464299167466, 79.10642575254559, 21.636261583556692, 92.45365713517062, 93.03095850110003, 69.4327271404812, 66.49182396814508, 79.16179793785882, 37.427236829835444, 67.06143533591928, 79.32919407673795, 41.7731988863904, 73.17266617856679, 45.624020816627954, 25.194962157383117, 94.05327424846213, 84.03769724554971, 52.47832504932107, 35.707613162877195, 16.182950545438878, 88.86432365649642, 14.782496367529285, 42.80320640478335, 78.50295788351274, 91.24258153812295, 8.853603835365975, 41.79915050101324, 63.32546470649342, 56.34079069667814, 81.5734032051805, 60.36265428610208, 64.05139388636806, 5.355092351092672, 73.41124648702207, 59.76502590079393, 27.338799811871528, 18.400014560570654, 96.55640550221693, 25.90364769267194, 91.17360611332582, 55.165815875055166, 91.12152780501995, 77.5260508866082, 0.31871431111791804, 89.2821820509676, 34.85791953992401, 71.16709849361453, 52.991156523460425, 71.90506306391246, 93.40487498605026, 60.66130252959784, 1.4646650178471332, 42.446848106763454, 61.198756650816954, 56.59644261498231, 87.11107648459986, 54.292570389954555, 29.990179349234992, 49.86434987747498, 41.759144145058244, 51.80393117236497, 17.99260572642115, 9.417742363698133, 74.96262954374338, 98.58857140823586, 44.14415276556514, 21.684408607671703, 19.865817603366953, 95.06351872245446, 10.97186097331374, 30.668003289089395, 87.87570070312914, 44.39165872005248, 26.424437290776105, 97.09041079619058, 76.98219133870448, 10.957339848764969, 53.58019835175954, 68.61914965072403, 72.03691088439403, 55.95476697113342, 44.14984717168152, 8.397687007358169, 91.19960287313016, 85.19789725410811, 38.497763693054054, 81.39371112215298, 93.40293290225686, 79.34558997467938, 98.64420618486568, 99.26178891980669, 91.83397746466756, 6.1508310959873524, 70.94884092579953, 20.91914446800637, 15.343581618399405, 91.34229321806794, 35.37641234494922, 8.598117806154038, 74.61482079594415, 55.64830574209883, 85.23560342847105, 14.223928383703788, 62.074506222885795, 14.888001458634015, 59.79926628184773, 8.863715634324477, 37.87114094226983, 13.931295175589797, 26.031249720052084, 39.99374877033124, 47.15913285991612, 60.85696350414116, 47.31171422315285, 89.28989542317646, 20.27833640939074, 89.34067438963739, 57.088001170486876, 7.59463112757377, 9.451351778221618, 96.0141058626338, 37.56539020086381, 57.718788921368535, 17.926164019966162, 15.871986453275422, 48.450987804883916, 99.67518292444714, 64.44206788286014, 75.80317879653694, 77.48009032259209, 99.66830613509838, 19.48747165242739, 37.297906105411286, 42.21157288149103, 87.22130985050775, 19.63600252896265, 55.53758956566456, 54.649084594575626, 94.77770279653978, 61.536469400858806, 21.120935587508317, 32.23721711393887, 8.073152668316563, 57.21534150444268, 54.93507282984815, 70.7121921268542, 63.36861151487155, 70.21137849972833, 48.67975086901666, 12.523458364340511, 68.56825706642596, 35.86251898119877, 46.05505168241027, 32.12179675013394, 72.2398377246857, 48.93459493181869, 58.39043671141461, 51.0326962841177, 14.499715390751156, 94.10986803032313, 83.59315266484005, 18.971396595208724, 5.192885370350209, 42.735923415470786, 44.649492332454535, 33.144921962065645, 3.2096455114212663, 41.20188753836502, 24.412965009997823, 59.4651711841756, 26.634549836649946, 33.67709376466846, 9.10704839241081, 51.923867195430695, 92.35910708357288, 5.792130827860653, 11.221827277598184, 18.646273522297363, 7.261162832820178, 9.19795730291012, 69.96162046674522, 84.13973102924041, 63.46780303092462, 32.46333853342892, 89.93938951936005, 26.694163773833246, 33.2574778760734, 81.25039490642123, 77.64700586909983, 29.52173676471731, 31.502178852502748, 28.788240899027763, 68.2550919328842, 70.22735010114735, 42.55258793576614, 69.78849150303336, 7.711193654667237, 52.30401942339008, 96.10874823376841, 18.11671208135417, 14.133971308797255, 55.379716052832265, 7.929763648994237, 6.533963816277566, 31.319753368994952, 24.172890122271916, 53.91671608715808, 78.176198800622, 64.0021386379641, 13.56743057317249, 16.038218657249125, 95.8122123079168, 72.6153200563487, 13.30379368779836, 89.46981899308778, 55.80089402907732, 62.29438770082976, 34.70127727785833, 26.277778794434436, 87.02115399299873, 11.523149224171325, 51.92434120682081, 46.39688187743254, 3.5132983765343573, 1.8262236037879687, 28.51751309493603, 4.742170392267009, 82.54500640188938, 48.85594823475623, 41.090039956014756, 12.345765998658841, 68.79194791099867, 84.81160971329915, 57.50610825202093, 25.761954121669984, 74.21140723734138, 83.35832442012672, 96.39214017366575, 98.97294289660255, 87.14450667790446, 64.46310684309762, 52.91698824417852, 14.052013594717128, 38.12468802910185, 0.6594606063487829, 38.260523965489604, 55.59959244905986, 1.2901365092481076, 88.84139037932253, 28.984993564218687, 35.14483365168745, 78.64355835619212, 28.68575225544966, 86.38541750076584, 73.32556253065556, 11.292731427135028, 23.689352195666004, 90.55922476991718, 85.5797478460229, 84.61665889554652, 70.67636497312212, 97.31872548602809, 39.00530796100898, 86.86464823490532, 38.847162069240426, 24.218807761764804, 31.90763846896527, 72.65717271347421, 65.26392819585232, 31.1000525981745, 5.888462510604597, 74.33321521613642, 83.71260433375288, 92.95634038708016, 62.16226059949687, 30.898463958212986, 51.8833817623768, 69.14596517020641, 9.338097877213302, 80.17207808305747, 66.1168908826366, 51.54675598409039, 49.497027646999626, 28.48646872720726, 9.750439689964374, 86.94741320394814, 30.735954538118726, 94.12186959270623, 7.2448939003368125, 38.70531764391663, 40.972771323010804, 68.91764419853162, 29.593133493263814, 26.80103573953612, 97.65672137817444, 48.35825831640056, 55.93247638352741, 80.22854432950062, 1.5838752511202592, 48.50042114349415, 89.02344172885013, 80.4474174119043, 42.59904600710536, 45.328405310566545, 15.944672215757516, 41.933355265144066, 99.06394613054809, 22.09108767868182, 9.839798371047248, 77.67486317557699, 27.286241427417213, 90.15226582800004, 66.85385079533508, 36.96707088535784, 71.4570607587994, 42.19549254912892, 55.96040969638004, 86.87836808502075, 76.99457024786963, 65.04468030697936, 71.66628011241627, 11.116921068402663, 52.22067065128475, 37.47869515892602, 6.553694876081806, 94.75057926243005, 42.50418094216467, 63.71481911672281, 84.88062066208636, 15.869190194427318, 8.16124785844532, 47.041140497857256, 48.922060847701175, 80.19236962500437, 63.72867475670455, 67.07916134998739, 2.790667190899798, 25.240579962609445, 26.183282885154135, 48.140608187159, 18.167923945627518, 83.7907702743625, 44.29383825758203, 77.3995083615439, 63.090184086190625, 88.21025165825304, 38.25068209735337, 56.24826167313167, 36.825682649080306, 14.56259425350076, 8.426507901215718, 22.121993819790664, 22.553251440013867, 75.28288656905924, 12.438659685513564, 92.1936808558287, 74.93328475986164, 93.40617572301218, 54.19791107169788, 91.10390850184767, 39.30092314449517, 10.393656084454717, 84.64566762763364, 36.108255571200154, 9.855409835024698, 41.57846455810497, 27.057538982921436, 68.41691078231726, 45.937997472560085, 17.34732237073725, 39.33968039119835, 31.373103644811007, 38.4181026348283, 34.37135862929407, 15.25473478415622, 52.70088545295296, 25.532190135389786, 27.374625786150343, 34.548777834757324, 43.46082284747654, 8.746653582835373, 94.5047965762911, 17.51949104637167, 99.39456056156655, 9.00681829077511, 9.200131839824843, 92.6409475710443, 17.9958646113348, 9.059047020753763, 28.751509666629115, 64.41150440993658, 28.581260069005577, 41.400008749599934, 57.452489551476695, 98.68631685353913, 74.88581335235777, 90.66571400471882, 7.264385888165115, 21.654238473940367, 18.419403974743197, 22.5241491805956, 39.05846630183786, 30.211216050109122, 65.14388253149427, 76.42856446605144, 93.10990462541129, 95.74064520366771, 23.813298434184404, 6.90754165387184]\n"
          ]
        }
      ]
    },
    {
      "cell_type": "markdown",
      "metadata": {
        "id": "53KEK1u2iHA8"
      },
      "source": [
        "Solution 10"
      ]
    },
    {
      "cell_type": "code",
      "metadata": {
        "colab": {
          "base_uri": "https://localhost:8080/",
          "height": 446
        },
        "id": "xOD_WitPiJSt",
        "outputId": "d7100559-e6ac-4875-efd2-e903535e2709"
      },
      "source": [
        "population2 = [30.99350278786427, 77.76336930392922, 75.37528308079652, 22.656586714098005, 94.62987471914181, 59.33217421461556, 8.91104895257956, 42.49260100731532, 88.23082605764809, 15.33156090257698, 62.287971617766736, 52.52186403244223, 91.5523944529148, 82.6972527050206, 66.24691047706114, 36.57857001939527, 14.252932566319975, 84.07012188695231, 64.86310632368138, 68.87927163881136, 40.07008894798797, 17.139232589649687, 62.52988649517367, 11.708698342975321, 35.50717363267128, 75.5595996278774, 53.27460615097112, 25.971799622481385, 30.28352140908739, 55.241613380028994, 94.6209342508112, 37.9175193911263, 2.345830106754354, 34.24466785952771, 93.76254481816235, 84.95433669411298, 35.918446941674496, 27.911129221548702, 82.56226924063603, 33.889575481232136, 30.50796172922835, 18.872312311734085, 43.3805180343025, 12.691145550933314, 56.43734327565456, 93.60448087066689, 60.951679709105655, 86.08095804665872, 4.941826565802199, 37.906270114517056, 10.238298075117925, 69.99947532038018, 52.550670295592205, 32.809483144831965, 58.58674481888346, 87.75289930406005, 18.679653967510813, 2.6190194787710896, 95.31230795019259, 59.1975289956751, 77.79718699613696, 19.896889522749895, 86.22128408588657, 23.019950362114383, 25.807706789321795, 45.7221830297686, 14.212634645957378, 35.67177958183802, 21.7052550212276, 72.24963313197745, 9.014240415144714, 89.68408416034671, 26.128159461728252, 39.6993606929665, 99.65952402908704, 4.50709221802208, 43.38997321162207, 31.432245769721025, 51.57413263656206, 17.48919078127561, 32.584413089770855, 91.45778787928775, 18.97992453394073, 91.52023403885691, 61.834342151146224, 45.28441449039215, 49.49261550189068, 6.1840390277194235, 88.297894129248, 91.87432855327377, 53.59414205821829, 87.32558555246548, 54.83576043959748, 34.45316033111025, 74.87133125062525, 86.23983799408093, 18.49320524168041, 49.8236744768535, 45.68643926790853, 76.33855936544532, 23.985876065620502, 83.14680523824339, 74.75365910502192, 27.645943414783837, 90.67593964378908, 96.19773475924906, 73.93167837074215, 65.04367185868092, 78.17890624910468, 53.86635815496068, 8.99071762857282, 32.48478972930931, 91.31595919731687, 66.65386077053236, 6.998871627062364, 24.66367790182663, 39.54420571544628, 96.3469424814847, 79.00617606691932, 58.44876133732894, 48.84653714428925, 20.53873981967986, 77.74694483899323, 82.07770577985933, 68.41536936274885, 57.26137358855225, 76.88854173993622, 85.97090450472577, 95.07015917992062, 26.315036298406714, 40.75312680910271, 31.18447848089089, 81.28070949786735, 38.680670450158615, 91.96756738348124, 17.42394372510192, 41.22872092144221, 23.4550654595701, 47.55248103212, 54.39246318274941, 92.87165382878719, 28.931366307520822, 13.779847900456922, 43.16434745510486, 89.79761285934174, 57.318094462322065, 77.63675039461447, 16.04722330630851, 87.3164611091837, 94.76808935679354, 8.255798813582105, 43.36286973393153, 45.97029222629758, 16.74564090822629, 19.79740011328408, 68.84691108490377, 46.541365313487525, 33.06199172037928, 8.643658371246687, 41.6806532261664, 89.36828701356556, 44.05238467636333, 34.69502022153148, 90.318233142143, 72.65932933994661, 88.35759499198274, 52.01206461425396, 74.78034376031128, 17.988452945079313, 73.34437375218685, 29.768633618275643, 73.42440789891758, 46.28861938410233, 17.447514592910473, 53.28267779154472, 94.40325416022479, 27.89505613285489, 29.20739066965633, 1.4047110016060849, 84.9774245467241, 95.26459693727375, 18.31532542141545, 46.80183127503271, 73.63643754245268, 12.158852486995697, 11.12075564761894, 83.72027036936451, 89.86959703610113, 99.30803938200779, 48.5392204196549, 97.3475220382546, 15.704968526916396, 42.22219616314214, 22.70852349607232, 29.622451233963243, 52.70086063390076, 69.55816865296856, 61.89799956414264, 23.571506296769073, 59.1079096351966, 13.431108976966676, 41.00466230137664, 78.94448548759334, 8.722002930339967, 19.800251715124105, 32.01235247113816, 57.23059358685948, 85.13572116241502, 58.95707077993442, 10.95028743197407, 91.0054602248645, 15.555590296924226, 7.61045939632835, 33.97936738435207, 47.02536031055252, 92.02520480284608, 49.182894046499925, 59.575553318366545, 6.402799599981179, 25.034617725191133, 49.86103502516822, 60.443718573559615, 15.709013163214037, 2.6848101672195424, 7.234306299252569, 25.423923096850487, 16.71988323677549, 55.947121978566905, 21.673502316412485, 44.34857674534211, 58.042109295448974, 10.402220518870509, 68.3698117267761, 28.594325626289418, 71.73964833925054, 41.81488431099273, 60.796416521504995, 18.75077089382974, 24.112032885991784, 68.2677045472116, 26.746518230469306, 42.705024514914356, 70.22202708964377, 30.212998577209017, 97.23866449015533, 19.249719820743884, 94.12511324740683, 23.260537105337075, 6.984840268851977, 46.96905879058766, 38.596913228918915, 45.52120683497207, 44.69975724088461, 49.11929942941301, 79.48622248919038, 82.86357668202398, 63.45482820541213, 88.9433780716434, 54.9441540823607, 67.7704918459145, 90.47190875422316, 71.12648671971425, 35.106738118126, 32.31602058646643, 63.57022614433659, 28.951521803508495, 91.33330872983683, 74.41704523706146, 4.196416746475262, 92.95018376840966, 55.2017291337085, 46.44896052314571, 14.95198579511653, 63.24111495410178, 16.440394159269868, 47.39832071453222, 30.220461310515557, 50.64430076889983, 48.0080901995265, 57.06598751020393, 24.783951203417864, 11.245234024646145, 32.83141824444539, 89.17775485709811, 34.47149930766448, 45.57425140867678, 98.38679253717288, 4.437940793398775, 20.62958863420259, 8.973726049687237, 37.345798476858704, 77.56594145441319, 11.110204385460543, 31.548229681992503, 31.977479871762394, 91.52866087555213, 46.15534391063245, 43.10771437339561, 73.0612330494635, 50.02536137867344, 31.800227015652105, 77.55197198133044, 97.16614700292561, 28.182019930435608, 31.924097261543793, 91.06267241064407, 3.381376779196077, 16.10828589552019, 45.87631301929154, 18.777811203832997, 32.1042379643737, 45.199992656458306, 83.86051658076245, 62.28306834660644, 33.84544485327572, 54.16885911903741, 99.82971605630574, 8.986170781877567, 26.96160625470788, 52.36388844223311, 66.2517948882783, 7.169006164864101, 98.90426179876638, 39.15624737394025, 96.50882655121849, 65.42024643939868, 77.33481036352393, 36.069770241001486, 85.14577372279004, 40.9468002323136, 75.69063057416034, 12.24726412989493, 98.89040463543469, 33.71858103527169, 12.972239228109295, 6.4596353181566535, 95.67894462176443, 67.89646574869035, 59.32437192898918, 51.07547034441349, 62.51948611373458, 1.8766437920417989, 18.736681718878202, 83.73352636281942, 65.2742300447657, 77.42698676270393, 46.18208097175069, 73.30502627024825, 12.835631894137489, 41.05011520279861, 91.74398181986298, 66.96116536932519, 61.59527843152617, 96.45006824695864, 20.88748226340753, 63.91415340392547, 32.61702302833173, 90.76776609379395, 96.6062492231555, 97.89372103622547, 91.91123566322487, 97.75855798768804, 17.43745394111017, 27.62825493289086, 35.94439016429188, 72.88027295845318, 48.21481809350715, 50.59313742643721, 22.73884849835174, 42.07628465853275, 77.08003932270631, 50.81177626790573, 62.36175281315077, 72.18048115792533, 43.92894085140912, 14.999042400518636, 51.98589064723842, 94.1018344159813, 86.67563055286163, 24.305104587157878, 90.03541610758884, 90.41547733321143, 75.06929767349394, 28.146381077263484, 47.53824776977872, 52.88114178596861, 91.53156858773906, 32.85629761260862, 48.2777987828646, 58.57717326076294, 6.646775273610772, 92.15918523041681, 37.212537435378444, 19.570359055691732, 33.14196860709085, 20.724127263129112, 69.10028630496035, 58.48665038753846, 49.007069335985285, 78.04863844360861, 27.966114996243185, 17.370066948642815, 70.88429050269714, 39.76764336710612, 85.50760893436517, 47.83427968805778, 82.02740212241532, 79.31224441154376, 38.17580798781718, 50.293823653118785, 6.757737037372813, 46.702855840495374, 41.961953262669994, 74.02133322455674, 44.150838769262236, 69.04974088878944, 94.25329837542216, 47.59338291832975, 6.473258821375727, 58.42439553240381, 71.73475811352019, 4.320723225110267, 57.743052481216736, 85.42366461436845, 49.48525340527746, 98.68515592715882, 16.274641018609703, 79.62783079326816, 83.78226255738943, 49.92773488971809, 22.136815285488876, 42.88710296264786, 80.09866269758687, 45.5575978900732, 63.98957108689072, 69.276852647342, 49.84341380805808, 90.62956555498485, 86.7474172722902, 94.50116087417597, 20.79733547863586, 5.102547352553321, 79.31357738001859, 20.58206300426162, 80.49956666719876, 62.01582976594137, 73.50365822813058, 83.53074127490056, 67.7527713053706, 13.434202644757454, 92.64511416776661, 47.02430385258277, 31.16601514370212, 35.22698958070683, 36.23235918433938, 9.960602472638524, 51.191307011772466, 75.8296085399344, 24.734430758823233, 58.229736584153876, 23.127656848694677, 2.733027085564377, 39.873888326597175, 51.4998308197154, 25.124262899581762, 20.59572143240417, 98.92014226185535, 94.68904177369198, 87.91759691096375, 20.735100469499724, 13.539972732654759, 65.46688989639658, 60.66772373831076, 72.83117385233292, 23.075803728949694, 75.19438249791209, 94.1738810278751, 78.41973734022469, 27.939397669889022, 94.9475910764552, 41.1194056196796, 33.09091083603245, 3.4448972903883712, 83.5648699438936, 16.91795621955925, 58.87993271315655, 48.23491183556732, 63.54988241982825, 80.52633140892152, 15.617021874111703, 63.09751126620915, 84.38499963175148, 0.9048692489864618, 61.84440384655455, 99.56022181203308, 53.16333991570726, 66.08835807990984, 65.42228139344064, 12.757637059021466, 47.73169169452836, 96.05378718818024, 74.78158340067478, 1.7526161412553698, 42.805089553240585, 72.28074916002544, 82.68844966359141, 46.49175124876268, 99.24152690595986, 65.2981548330289, 88.61410721683546, 70.01909310045508, 23.815524660105105, 20.63777955897279, 17.24154640767932, 80.56889164055839, 86.00773088898308, 81.22260728107912, 29.1005434771505, 63.755140439100245, 51.880109431324826, 66.19514380970554, 32.58332810431255, 49.12981659078319, 73.18647767504713, 20.576316077581126, 90.69525595526244, 55.35686071943018, 32.4054153697865, 63.04030307886298, 82.19529329732498, 78.87405684610943, 97.27412221239953, 52.529973730152655, 26.688026243028553, 40.61403488002294, 37.73750620013671, 1.0496896454618043, 85.23989099844276, 49.02684611760776, 10.465102487230771, 19.912274937565442, 57.43647223422421, 58.619470664958925, 61.77744654784703, 92.2495078225776, 39.54033147096938, 66.12308760299884, 21.05619682864468, 31.408815653940213, 52.64576099707007, 46.12289312760429, 97.12518757604896, 96.85078707940026, 46.50338089155337, 90.66637396826653, 44.61572047158664, 95.19181628377778, 83.154203337373, 91.4750843937484, 43.974760819583004, 98.46335115576774, 14.540900121785006, 44.54354509812788, 56.09826700855643, 99.41980251449208, 90.24934933846048, 67.43032514780047, 93.25329876096079, 83.7862491305033, 13.639765013276117, 86.25232361453776, 23.56701623786106, 23.106397237933873, 20.44235923597798, 53.615319815545725, 26.338091166343748, 55.66005309899252, 58.03472409301605, 0.2210235113332959, 74.68261484747394, 53.852287862983616, 56.40561134913258, 34.659710669585785, 67.6601436633366, 90.93454021943062, 94.0851084520638, 75.42142211319877, 14.830258332696689, 3.775022754699797, 20.65467262234183, 75.77165517414828, 73.68464299167466, 79.10642575254559, 21.636261583556692, 92.45365713517062, 93.03095850110003, 69.4327271404812, 66.49182396814508, 79.16179793785882, 37.427236829835444, 67.06143533591928, 79.32919407673795, 41.7731988863904, 73.17266617856679, 45.624020816627954, 25.194962157383117, 94.05327424846213, 84.03769724554971, 52.47832504932107, 35.707613162877195, 16.182950545438878, 88.86432365649642, 14.782496367529285, 42.80320640478335, 78.50295788351274, 91.24258153812295, 8.853603835365975, 41.79915050101324, 63.32546470649342, 56.34079069667814, 81.5734032051805, 60.36265428610208, 64.05139388636806, 5.355092351092672, 73.41124648702207, 59.76502590079393, 27.338799811871528, 18.400014560570654, 96.55640550221693, 25.90364769267194, 91.17360611332582, 55.165815875055166, 91.12152780501995, 77.5260508866082, 0.31871431111791804, 89.2821820509676, 34.85791953992401, 71.16709849361453, 52.991156523460425, 71.90506306391246, 93.40487498605026, 60.66130252959784, 1.4646650178471332, 42.446848106763454, 61.198756650816954, 56.59644261498231, 87.11107648459986, 54.292570389954555, 29.990179349234992, 49.86434987747498, 41.759144145058244, 51.80393117236497, 17.99260572642115, 9.417742363698133, 74.96262954374338, 98.58857140823586, 44.14415276556514, 21.684408607671703, 19.865817603366953, 95.06351872245446, 10.97186097331374, 30.668003289089395, 87.87570070312914, 44.39165872005248, 26.424437290776105, 97.09041079619058, 76.98219133870448, 10.957339848764969, 53.58019835175954, 68.61914965072403, 72.03691088439403, 55.95476697113342, 44.14984717168152, 8.397687007358169, 91.19960287313016, 85.19789725410811, 38.497763693054054, 81.39371112215298, 93.40293290225686, 79.34558997467938, 98.64420618486568, 99.26178891980669, 91.83397746466756, 6.1508310959873524, 70.94884092579953, 20.91914446800637, 15.343581618399405, 91.34229321806794, 35.37641234494922, 8.598117806154038, 74.61482079594415, 55.64830574209883, 85.23560342847105, 14.223928383703788, 62.074506222885795, 14.888001458634015, 59.79926628184773, 8.863715634324477, 37.87114094226983, 13.931295175589797, 26.031249720052084, 39.99374877033124, 47.15913285991612, 60.85696350414116, 47.31171422315285, 89.28989542317646, 20.27833640939074, 89.34067438963739, 57.088001170486876, 7.59463112757377, 9.451351778221618, 96.0141058626338, 37.56539020086381, 57.718788921368535, 17.926164019966162, 15.871986453275422, 48.450987804883916, 99.67518292444714, 64.44206788286014, 75.80317879653694, 77.48009032259209, 99.66830613509838, 19.48747165242739, 37.297906105411286, 42.21157288149103, 87.22130985050775, 19.63600252896265, 55.53758956566456, 54.649084594575626, 94.77770279653978, 61.536469400858806, 21.120935587508317, 32.23721711393887, 8.073152668316563, 57.21534150444268, 54.93507282984815, 70.7121921268542, 63.36861151487155, 70.21137849972833, 48.67975086901666, 12.523458364340511, 68.56825706642596, 35.86251898119877, 46.05505168241027, 32.12179675013394, 72.2398377246857, 48.93459493181869, 58.39043671141461, 51.0326962841177, 14.499715390751156, 94.10986803032313, 83.59315266484005, 18.971396595208724, 5.192885370350209, 42.735923415470786, 44.649492332454535, 33.144921962065645, 3.2096455114212663, 41.20188753836502, 24.412965009997823, 59.4651711841756, 26.634549836649946, 33.67709376466846, 9.10704839241081, 51.923867195430695, 92.35910708357288, 5.792130827860653, 11.221827277598184, 18.646273522297363, 7.261162832820178, 9.19795730291012, 69.96162046674522, 84.13973102924041, 63.46780303092462, 32.46333853342892, 89.93938951936005, 26.694163773833246, 33.2574778760734, 81.25039490642123, 77.64700586909983, 29.52173676471731, 31.502178852502748, 28.788240899027763, 68.2550919328842, 70.22735010114735, 42.55258793576614, 69.78849150303336, 7.711193654667237, 52.30401942339008, 96.10874823376841, 18.11671208135417, 14.133971308797255, 55.379716052832265, 7.929763648994237, 6.533963816277566, 31.319753368994952, 24.172890122271916, 53.91671608715808, 78.176198800622, 64.0021386379641, 13.56743057317249, 16.038218657249125, 95.8122123079168, 72.6153200563487, 13.30379368779836, 89.46981899308778, 55.80089402907732, 62.29438770082976, 34.70127727785833, 26.277778794434436, 87.02115399299873, 11.523149224171325, 51.92434120682081, 46.39688187743254, 3.5132983765343573, 1.8262236037879687, 28.51751309493603, 4.742170392267009, 82.54500640188938, 48.85594823475623, 41.090039956014756, 12.345765998658841, 68.79194791099867, 84.81160971329915, 57.50610825202093, 25.761954121669984, 74.21140723734138, 83.35832442012672, 96.39214017366575, 98.97294289660255, 87.14450667790446, 64.46310684309762, 52.91698824417852, 14.052013594717128, 38.12468802910185, 0.6594606063487829, 38.260523965489604, 55.59959244905986, 1.2901365092481076, 88.84139037932253, 28.984993564218687, 35.14483365168745, 78.64355835619212, 28.68575225544966, 86.38541750076584, 73.32556253065556, 11.292731427135028, 23.689352195666004, 90.55922476991718, 85.5797478460229, 84.61665889554652, 70.67636497312212, 97.31872548602809, 39.00530796100898, 86.86464823490532, 38.847162069240426, 24.218807761764804, 31.90763846896527, 72.65717271347421, 65.26392819585232, 31.1000525981745, 5.888462510604597, 74.33321521613642, 83.71260433375288, 92.95634038708016, 62.16226059949687, 30.898463958212986, 51.8833817623768, 69.14596517020641, 9.338097877213302, 80.17207808305747, 66.1168908826366, 51.54675598409039, 49.497027646999626, 28.48646872720726, 9.750439689964374, 86.94741320394814, 30.735954538118726, 94.12186959270623, 7.2448939003368125, 38.70531764391663, 40.972771323010804, 68.91764419853162, 29.593133493263814, 26.80103573953612, 97.65672137817444, 48.35825831640056, 55.93247638352741, 80.22854432950062, 1.5838752511202592, 48.50042114349415, 89.02344172885013, 80.4474174119043, 42.59904600710536, 45.328405310566545, 15.944672215757516, 41.933355265144066, 99.06394613054809, 22.09108767868182, 9.839798371047248, 77.67486317557699, 27.286241427417213, 90.15226582800004, 66.85385079533508, 36.96707088535784, 71.4570607587994, 42.19549254912892, 55.96040969638004, 86.87836808502075, 76.99457024786963, 65.04468030697936, 71.66628011241627, 11.116921068402663, 52.22067065128475, 37.47869515892602, 6.553694876081806, 94.75057926243005, 42.50418094216467, 63.71481911672281, 84.88062066208636, 15.869190194427318, 8.16124785844532, 47.041140497857256, 48.922060847701175, 80.19236962500437, 63.72867475670455, 67.07916134998739, 2.790667190899798, 25.240579962609445, 26.183282885154135, 48.140608187159, 18.167923945627518, 83.7907702743625, 44.29383825758203, 77.3995083615439, 63.090184086190625, 88.21025165825304, 38.25068209735337, 56.24826167313167, 36.825682649080306, 14.56259425350076, 8.426507901215718, 22.121993819790664, 22.553251440013867, 75.28288656905924, 12.438659685513564, 92.1936808558287, 74.93328475986164, 93.40617572301218, 54.19791107169788, 91.10390850184767, 39.30092314449517, 10.393656084454717, 84.64566762763364, 36.108255571200154, 9.855409835024698, 41.57846455810497, 27.057538982921436, 68.41691078231726, 45.937997472560085, 17.34732237073725, 39.33968039119835, 31.373103644811007, 38.4181026348283, 34.37135862929407, 15.25473478415622, 52.70088545295296, 25.532190135389786, 27.374625786150343, 34.548777834757324, 43.46082284747654, 8.746653582835373, 94.5047965762911, 17.51949104637167, 99.39456056156655, 9.00681829077511, 9.200131839824843, 92.6409475710443, 17.9958646113348, 9.059047020753763, 28.751509666629115, 64.41150440993658, 28.581260069005577, 41.400008749599934, 57.452489551476695, 98.68631685353913, 74.88581335235777, 90.66571400471882, 7.264385888165115, 21.654238473940367, 18.419403974743197, 22.5241491805956, 39.05846630183786, 30.211216050109122, 65.14388253149427, 76.42856446605144, 93.10990462541129, 95.74064520366771, 23.813298434184404, 6.90754165387184]\n",
        "fig, ax = plt.subplots(figsize = (10, 7))\n",
        "ax.hist(population2, bins = 500)\n",
        "print(\"Histogram of population is shown below: \")\n",
        "plt.show()"
      ],
      "execution_count": null,
      "outputs": [
        {
          "output_type": "stream",
          "name": "stdout",
          "text": [
            "Histogram of population is shown below: \n"
          ]
        },
        {
          "output_type": "display_data",
          "data": {
            "image/png": "[encoded data removed]",
            "text/plain": [
              "<Figure size 720x504 with 1 Axes>"
            ]
          },
          "metadata": {
            "needs_background": "light"
          }
        }
      ]
    },
    {
      "cell_type": "markdown",
      "metadata": {
        "id": "uvzfkK3niJqy"
      },
      "source": [
        "Solution 11"
      ]
    },
    {
      "cell_type": "code",
      "metadata": {
        "colab": {
          "base_uri": "https://localhost:8080/"
        },
        "id": "4yIiUD5yiLrk",
        "outputId": "bb45711e-076a-4e8e-d0ac-376e2e8a17a9"
      },
      "source": [
        "print(\"Mean of population is: \" + str(np.mean(population2)))\n",
        "print(\"Variance of population is: \" + str(np.var(population2)))"
      ],
      "execution_count": null,
      "outputs": [
        {
          "output_type": "stream",
          "name": "stdout",
          "text": [
            "Mean of population is: 51.25492493603111\n",
            "Variance of population is: 812.6561326318661\n"
          ]
        }
      ]
    },
    {
      "cell_type": "markdown",
      "metadata": {
        "id": "FLz6qGDLiMF2"
      },
      "source": [
        "Solution 12"
      ]
    },
    {
      "cell_type": "code",
      "metadata": {
        "colab": {
          "base_uri": "https://localhost:8080/"
        },
        "id": "NpA5_e8viOhm",
        "outputId": "a5d34531-9771-4349-eee7-a1a70b008c04"
      },
      "source": [
        "n = int(input(\"Enter sample size: \"))\n",
        "sample_data = random.sample(tuple(population2),n)\n",
        "print(sample_data)\n",
        "print(\"Mean of sample data = \" + str(st.mean(sample_data)))\n",
        "print(\"Variance of sample data = \" + str(st.variance(sample_data)))"
      ],
      "execution_count": null,
      "outputs": [
        {
          "output_type": "stream",
          "name": "stdout",
          "text": [
            "Enter sample size: 25\n",
            "[96.85078707940026, 79.34558997467938, 35.37641234494922, 47.73169169452836, 1.5838752511202592, 6.533963816277566, 86.00773088898308, 51.92434120682081, 90.76776609379395, 35.918446941674496, 49.497027646999626, 66.2517948882783, 14.540900121785006, 98.89040463543469, 31.18447848089089, 24.66367790182663, 42.22219616314214, 57.743052481216736, 9.839798371047248, 6.998871627062364, 20.91914446800637, 76.88854173993622, 11.708698342975321, 73.34437375218685, 14.888001458634015]\n",
            "Mean of sample data = 45.26486269486599\n",
            "Variance of sample data = 975.4856040449378\n"
          ]
        }
      ]
    },
    {
      "cell_type": "markdown",
      "metadata": {
        "id": "NOw2sTy4iO74"
      },
      "source": [
        "Solution 13"
      ]
    },
    {
      "cell_type": "code",
      "metadata": {
        "colab": {
          "base_uri": "https://localhost:8080/"
        },
        "id": "qDvOK2jAiQWV",
        "outputId": "78a5e793-58a6-4581-f71a-0e826017674f"
      },
      "source": [
        "n = int(input(\"Enter sample size: \"))\n",
        "m = int(input(\"Enter number of samples: \"))\n",
        "mean_sample2 = []\n",
        "for i in range(m):\n",
        "  sample_data = random.sample(tuple(population2),n)\n",
        "  mean = np.mean(sample_data)\n",
        "  mean_sample2.append(mean)\n",
        "print(mean_sample2)\n",
        "print(\"Mean of Sample mean Distribution is \" + str(np.mean(mean_sample2)))\n",
        "print(\"Variance of Sample mean Distribution is \" + str(np.var(mean_sample2)))"
      ],
      "execution_count": null,
      "outputs": [
        {
          "output_type": "stream",
          "name": "stdout",
          "text": [
            "Enter sample size: 25\n",
            "Enter number of samples: 500\n",
            "[49.095494170086894, 50.2798808193057, 55.62708775088195, 50.11575068970101, 54.49763669059584, 55.599738338745865, 43.88116389564077, 44.15104970995603, 48.242597489554015, 49.649122220147774, 55.89590982944467, 43.44294024498441, 38.45560879112391, 56.152528412245395, 60.012583907364835, 43.20545218038381, 53.15684571781284, 56.65198365798394, 60.02382940673737, 46.33618496906186, 52.079423765616305, 60.29276914394309, 63.912048939519536, 49.07864323326927, 41.96084597059868, 50.72535352683687, 50.047539605682665, 44.14321492071775, 54.46363217078243, 56.14601179310529, 42.075204071294074, 42.81806709058219, 51.52502080446734, 44.8763732906406, 45.32205654273765, 56.52464186829551, 46.107442790938514, 53.43146500575039, 45.03946953708815, 51.60863378501297, 43.78460977197707, 39.10961221766685, 53.61572747939402, 49.763019181281976, 59.81894631716603, 54.43531634201339, 51.73017666399319, 44.54818697922663, 57.86766887622176, 54.51476940940779, 46.91090846122483, 49.83932910664073, 52.20108184582042, 58.07327199734524, 54.13217857764093, 57.06080325189952, 45.30258532072876, 40.61832584414363, 58.85098075372568, 49.3820932470158, 51.395672469958456, 48.09654178985533, 59.96978377351199, 53.657176121572796, 54.225746765323926, 51.24101808353993, 43.99594075491226, 59.91880872872817, 52.250087924239196, 54.313746891948995, 55.26842256337346, 49.87633588349347, 55.02215463664461, 53.254659318276815, 46.0550703875579, 58.71480900178823, 52.517781559148936, 52.25744519947807, 49.63831706336931, 44.60531112712578, 57.48428457628958, 47.4848025516763, 51.06120062981465, 49.827174241075085, 50.99356803681265, 50.00219062803873, 43.15250301619162, 50.954046891822536, 51.14249104095293, 56.35615764296654, 53.178239569014195, 50.07091144236864, 54.22835934351813, 44.12716589214536, 44.48073463262244, 47.15743931055866, 51.571090562322944, 51.59943075839257, 49.75994793985832, 49.322742542136794, 48.17471917566441, 56.496809220001104, 54.823732371792865, 49.79344121740539, 45.49312268010394, 45.40714480122697, 57.36178045904019, 51.248671594544994, 58.44006445460125, 46.509108201918735, 49.366664535289985, 42.553540565402116, 55.431240015569095, 45.74198298725215, 44.95935679443334, 61.45057064270899, 50.57600497526996, 40.10490186926797, 56.68988612294378, 53.33491932191944, 60.66112463860339, 49.15811511673081, 44.06568970774711, 42.991229600606296, 53.34483452755142, 58.24165448671494, 50.907987223633235, 58.89743733196242, 56.32258935131497, 40.83513690908025, 51.793778080691, 52.15940489509282, 50.53813768312417, 54.21529471515555, 53.92798043558095, 57.199262230652714, 49.205540180238266, 52.05295193814386, 53.4015011546017, 50.62725928667148, 55.47424359487202, 54.095249560388666, 58.2438702340863, 50.586551689092175, 49.20165316681027, 53.82588526451308, 51.23157729130921, 53.71347218402575, 47.83579988939143, 45.95651233098221, 50.73061691873861, 43.531061712110706, 52.067743414258686, 55.743832943710075, 49.41984514647848, 47.014705592157085, 59.71064157143684, 45.49588753513267, 48.62701624954132, 47.07843945074015, 51.26247199700029, 38.92087930882863, 50.775254695115365, 63.50326402265709, 60.32422542801183, 46.68741065717678, 52.76909866616445, 48.99182054759215, 48.43029938784781, 51.02318022068306, 52.576469234605774, 44.75037146963864, 53.44096624580402, 55.53023869011371, 49.62515886949024, 56.64829885010867, 48.78707502677934, 45.76287796217915, 54.39625706996516, 38.39714164135111, 49.37825951488905, 46.44091284532868, 52.007281712455196, 47.91868738408278, 51.147980804796155, 51.38018334654801, 56.55267876778602, 52.63977469028747, 37.06478781927367, 47.781773966823785, 57.590320959716934, 36.56064398460849, 58.03839614045315, 43.843625371142195, 52.7833551034416, 46.14364207859291, 42.78452850685094, 49.554829602042304, 51.22659691162774, 65.89634425347259, 50.339926774441054, 48.198472198264795, 47.05518168789465, 43.73454456704208, 45.37319668743696, 47.29798334184501, 60.11539348815489, 55.553692063288274, 49.99953429530955, 45.814285630977736, 49.282660864004576, 53.56219434781754, 53.90209124830355, 53.3945677952206, 55.08368546935324, 58.905283376774484, 58.50375266077045, 40.98425145098462, 50.864859813346186, 46.824925637481854, 47.83505744821682, 50.75797152788407, 48.86338331179159, 46.21829690748591, 54.551324137854664, 56.495544068367145, 50.939198702808945, 55.2217565826739, 53.435546388286866, 58.907580536628586, 52.60319545978359, 52.50835022866307, 50.53947719798768, 56.39700476745586, 44.43979563752596, 55.852826891136374, 57.44153360809122, 56.312174710942706, 55.139486485261195, 57.97137688734965, 54.83582102007134, 52.864076323181855, 54.04149537647217, 45.467280589539776, 49.49387450863885, 52.03593442935246, 48.37185710079511, 50.736469266093145, 45.92220133645706, 47.42479126435127, 50.761505115904356, 53.7068691413269, 50.59840373200782, 52.22845387494951, 52.6475749174877, 50.5589808495983, 61.19063185423701, 54.893819517835844, 54.29977381419663, 50.4460208571604, 57.014354376209624, 43.503884372352566, 46.30454881286161, 57.579837348898224, 52.28548854601473, 55.96140499155954, 55.15565723302452, 49.18409779648707, 40.02978039101492, 55.19998362994254, 51.02325583421435, 52.839533246729715, 47.8885524137973, 54.9110553359225, 49.6548816604392, 48.521025129268985, 48.43866575953633, 53.6383326133102, 52.97399668888432, 53.610375331960086, 55.49202680795298, 53.12381017545252, 47.92380202653609, 51.0734039305316, 52.71555998140522, 60.90066830722828, 51.2429997045082, 48.782733651294265, 42.998844868762355, 46.5106544685236, 46.126268517234486, 44.85104491246202, 52.148417995432716, 54.40417928298049, 51.31052242839948, 49.66724812351233, 53.51024031777934, 46.04803310574146, 54.92010479144904, 53.411611290139355, 47.959442805171946, 52.182729866383745, 44.895224604162834, 52.891688919969674, 45.37838975412203, 53.02813309600765, 46.341275168859326, 56.80459758917351, 50.82977665756316, 56.10632458705188, 47.511276256131616, 53.23242255357779, 44.70158646518764, 53.71177661103256, 50.58676495813788, 59.84151344133139, 55.100452630303586, 63.565803954089205, 60.32236057710001, 38.10909815712083, 52.59325127425206, 60.56484028728296, 50.26921513257351, 50.32964549518089, 44.68624563238386, 44.95720213490081, 65.32984636511127, 30.15615903014054, 50.63603918457092, 57.40821318996569, 57.91908992773561, 53.51365710774095, 53.315303247261724, 49.39936292238861, 48.06539774752186, 47.09075621300806, 49.03883656824716, 56.41821450490838, 60.02323458366553, 54.90778828788657, 47.46800740594491, 55.75059789055978, 54.3962814993848, 53.596330926599805, 55.62148993456212, 41.586452361600465, 51.18218140047652, 42.34963956732763, 44.69794466011709, 49.91661749585919, 58.00678958271896, 48.073438966325895, 48.837096315715364, 60.23685167564428, 54.742305936442335, 56.415312232158094, 46.9647810957086, 60.09698580931506, 56.00781912335038, 54.860108779352196, 61.70429882537467, 62.331380231247124, 55.28907860793344, 54.59444489092648, 52.945260943533796, 56.98025198290861, 56.778278841096544, 51.295455357508736, 58.75127118483984, 50.84590465086172, 49.20387614903246, 37.41863149079642, 57.11661315296821, 54.32483846099754, 59.24860465513846, 49.28215770378073, 50.2129415232262, 54.406076755421694, 48.97860412319396, 44.25748530994082, 45.77230488955296, 57.50606316146754, 46.03417176122369, 55.92594701794923, 42.766279135532805, 44.17591212454958, 51.94802731957397, 50.96276076977666, 48.36933415473939, 45.366974409483284, 48.443709947105106, 54.183284341815664, 47.87345080944916, 44.43146044784213, 53.74753106745997, 36.9130159637593, 48.17608228345966, 57.114853056894944, 46.904990402339834, 45.881056794319214, 45.71769703968832, 48.90401538197077, 46.79649241809312, 46.998889724936035, 57.52918163579859, 50.702326673241316, 48.69594119855417, 47.912664826627115, 52.0296439886856, 44.356033118039385, 35.98356477001967, 40.558841373813955, 54.677835510465414, 48.96358655266377, 59.615013424204214, 53.7968368850187, 46.53831954593167, 43.13471760128849, 60.746086133114886, 43.82971226872759, 54.05648235991957, 59.53083243151107, 60.80028670964758, 48.23300117462544, 49.55953418582447, 64.70820114149136, 46.711529008952965, 47.552124639917736, 50.12574468698107, 51.23335146951714, 50.02108092214294, 48.83698524275742, 50.258857651397584, 45.1403301950112, 57.23162338878822, 62.57254109201364, 55.82912218867147, 55.151763944285655, 53.06290057295187, 53.28259251966696, 50.39132822701357, 62.20069604572095, 58.83958937347379, 52.91426624311528, 50.27970951164883, 52.308196532358785, 52.8019888964954, 49.1272888050521, 51.81094515707576, 48.337153821188416, 42.69063282957742, 59.68980812549584, 47.41690982183769, 55.758996705045604, 48.64283615675177, 64.95889518010232, 56.1023774319611, 52.48756387667182, 49.51443839462354, 50.87428546784524, 61.02491669182498, 51.977541952901184, 50.7767506982677, 46.39926073703802, 58.60376194002418, 59.734811933095315, 45.66765225574429, 53.155491920227206, 57.56337432610625, 50.14418037745018, 42.73414769759915, 55.55301836500601, 50.30674736565481, 41.32038227148805, 64.04616739424678, 55.2626682674082, 51.68134575949421, 48.13670988661895, 54.97541422993078, 52.05671889358535, 54.96667920571689, 53.59227072056118, 53.74187281385174, 39.7588211571888, 48.19076984168634, 48.77711028938702, 46.5786071831196, 40.19691531372751, 52.5591579234052, 51.39321366201525, 58.52811714996295, 51.641484770766326, 53.23794092819455, 55.053929276663446, 53.12576947780369, 46.933532865112305, 57.876821174570644, 49.60168271919345, 57.21249205770257, 44.58883885899932]\n",
            "Mean of Sample mean Distribution is 51.281397388112055\n",
            "Variance of Sample mean Distribution is 30.37997591913966\n"
          ]
        }
      ]
    },
    {
      "cell_type": "markdown",
      "metadata": {
        "id": "yRlLy2FmiQpb"
      },
      "source": [
        "Solution 14"
      ]
    },
    {
      "cell_type": "code",
      "metadata": {
        "colab": {
          "base_uri": "https://localhost:8080/",
          "height": 446
        },
        "id": "suiSdoetiSkZ",
        "outputId": "e55f58f0-552b-4791-fd9d-e5c53cb31f7e"
      },
      "source": [
        "fig, ax = plt.subplots(figsize = (10, 7))\n",
        "ax.hist(mean_sample2, bins = 500)\n",
        "print(\"Histogram of distrbution of sample mean is shown below: \")\n",
        "plt.show()"
      ],
      "execution_count": null,
      "outputs": [
        {
          "output_type": "stream",
          "name": "stdout",
          "text": [
            "Histogram of distrbution of sample mean is shown below: \n"
          ]
        },
        {
          "output_type": "display_data",
          "data": {
            "image/png": "[encoded data removed]",
            "text/plain": [
              "<Figure size 720x504 with 1 Axes>"
            ]
          },
          "metadata": {
            "needs_background": "light"
          }
        }
      ]
    },
    {
      "cell_type": "markdown",
      "metadata": {
        "id": "mppl20m3iTM8"
      },
      "source": [
        "Solution 15"
      ]
    },
    {
      "cell_type": "code",
      "metadata": {
        "colab": {
          "base_uri": "https://localhost:8080/"
        },
        "id": "uuwGTGhSiVZK",
        "outputId": "9e949602-58ec-4763-b990-29a00d3e8562"
      },
      "source": [
        "population3 = []\n",
        "for i in range(1000):\n",
        "  p = random.uniform(0,100)\n",
        "  population3.append(p)\n",
        "print(population3)\n",
        "mu = float(input(\"Enter mean of normal distribution: \"))\n",
        "sigma = float(input(\"Enter standard deviation of normal distribution: \"))\n",
        "population3 = np.random.normal(mu, sigma, 1000)\n",
        "print(population3)"
      ],
      "execution_count": null,
      "outputs": [
        {
          "output_type": "stream",
          "name": "stdout",
          "text": [
            "[21.247945636554665, 68.08641319876513, 90.90448509150542, 57.059868853149666, 52.89454902458286, 10.203169109872212, 24.980824282818904, 72.68615840255327, 8.416013241890086, 53.848538531653226, 40.92120036917236, 44.20208717436069, 61.27646046629921, 35.53641540935786, 56.92185342469549, 95.93441963093167, 65.69047459743096, 16.800260728861073, 93.09554583636972, 35.26725037857666, 15.858225870127962, 4.9410376458238865, 11.173841258730999, 56.67744855466624, 82.79246134571511, 63.324669467671356, 21.300394265098333, 64.2865701255171, 1.5846896080652373, 83.38951491660141, 32.699429504538024, 49.63370002161637, 80.1787356090474, 34.90612200351653, 84.83788162633235, 81.34481449278738, 3.0659535019633033, 7.066934510204181, 59.964216387601475, 42.95550841398177, 10.385346141940765, 32.73620890315328, 25.600153132338257, 11.51164675985501, 67.38956208050577, 50.26177242879515, 6.459502241784543, 2.415431313308569, 51.282805698965284, 61.49630133849687, 94.64985613382414, 68.51310045968776, 99.85059880130048, 63.11689595270169, 57.19932556103535, 40.4157658214613, 64.16934032214877, 12.382355587966698, 99.11080947990361, 0.9133750010722919, 5.059817825226198, 34.97312662157527, 10.611595445186317, 78.54556864673425, 11.624911622682221, 35.27826931047592, 3.8544009104324983, 78.33928105041691, 80.67611418510594, 35.2639825793132, 96.32469239662976, 14.731071023980258, 37.845665142658355, 23.005799322194697, 20.068907449899964, 0.24124294859318995, 81.66226552916717, 54.512852198970364, 22.493161933778648, 24.066181616112026, 99.69426112635037, 78.63102370753255, 69.07474952160693, 40.42195869210433, 85.53579089992161, 92.46763824686994, 51.99104736286731, 32.27005979541103, 24.448068923240264, 18.83660272678671, 56.00135634176713, 20.212928778013207, 48.836379603267766, 11.423046472194187, 57.095856888963326, 19.612577391539045, 61.79881133887655, 6.791047268030304, 36.270912627701435, 73.31501955778448, 18.04986139008743, 35.51047311301797, 72.70391189120173, 28.81481083502495, 91.4838685238328, 44.82444153339515, 52.90863312492752, 50.27748857872537, 27.60571863553252, 56.62672094751503, 84.82994646672462, 43.91546004615711, 61.98782169803657, 2.455120855475479, 75.41478189344247, 70.6702880153408, 90.84374681354329, 3.7071570638484874, 88.20559450476959, 43.40981509132467, 53.372660981853016, 99.54024837117524, 77.10277284669368, 40.85719627999443, 92.85393259877276, 26.932461334187074, 27.63652264853762, 93.0618060723659, 76.21314563977484, 59.215329487814905, 40.34985837640879, 61.49925816353233, 34.46733192688458, 13.163620159333222, 69.64374757391404, 82.94020410086543, 55.72629611727491, 65.94412481836345, 61.278609776516, 18.491775224120342, 68.24008032625107, 42.24508901294759, 29.506765405774726, 57.790622103382674, 55.059769843182494, 21.75556751366392, 63.66063675762752, 45.43053101494483, 58.1724962544787, 70.79638126715751, 29.888939806450608, 42.6312154053061, 83.31675442210029, 67.67565068103058, 29.19765240299198, 49.646615657209495, 59.48957670549767, 71.94440306662179, 68.19841643156951, 77.89691883020924, 67.72358909807613, 22.006663874607703, 9.044924000295218, 14.794235286373226, 87.77545407198657, 0.06280005387955256, 55.53381868409581, 45.22045667115025, 55.86919256024401, 93.77397530674938, 95.41756117340266, 96.27585602958527, 91.06972650674855, 19.131342491231162, 56.50561635754053, 65.86058401389629, 81.73910024469166, 29.209333571708353, 88.54861680428691, 97.6489710530929, 73.09696506411849, 45.27407129962876, 32.82089484012349, 46.11947319743174, 73.18084854093695, 63.22456289914938, 93.06102178831478, 75.6646173367303, 80.35681074598897, 93.20749240117638, 84.95295350590571, 74.12257282374735, 36.97821839239971, 71.73801521165178, 65.99779524384097, 23.69505393629858, 80.6745672319228, 97.2683508391052, 43.166830362231536, 29.109934377305713, 78.81434707950639, 24.11760064450966, 39.510510254030606, 11.898961430345967, 62.042602771518105, 47.54134757016942, 61.55581111035413, 35.249922517344565, 92.14104811142442, 68.77557970521828, 10.380204936198323, 28.622699679661835, 1.518708938111879, 44.316554873812386, 83.75305277441403, 81.25330781498361, 39.81136505577051, 53.31517496461884, 64.79981515444877, 59.99162939453085, 3.412049864658395, 46.575913203741884, 49.70300837219007, 4.590304692665015, 96.51698593754372, 17.91787948272422, 46.47704867801333, 15.817177109695713, 43.790735607521135, 87.5635870910075, 0.17871361627177507, 28.02888954948648, 52.52307671378531, 14.890308827551912, 55.63727204727845, 72.36798181984145, 72.75588998704298, 80.71365950802674, 5.428336839818549, 27.36481544613556, 64.63811981114044, 61.98787431725419, 86.1564324201901, 98.19905134681451, 59.36634987027606, 78.57256247926459, 39.942932876581494, 23.492646730752355, 62.74060635565271, 65.77950655465999, 22.28352907421609, 86.3292770289754, 38.95275956371817, 68.94219065415787, 45.09638104544871, 97.40507694695317, 40.244513545922175, 40.35553531081523, 82.40305188590499, 83.0559425408067, 14.583419837856926, 32.09344114441485, 93.84369558457635, 19.267463750555336, 72.82217271150277, 87.2332996776781, 34.999553215147316, 34.098231700658445, 67.68585344081379, 6.27693826783805, 51.51842178122369, 76.18862523664085, 39.706601905126796, 1.2143936002667832, 8.196884272646464, 1.0870583451235372, 30.7933715615767, 48.21915076988647, 97.14354689191312, 63.703064238974264, 26.869985402821516, 5.627684533552813, 48.85152681649183, 92.63067808776283, 60.196362903646175, 92.46259584893681, 15.135517879436788, 90.02448938369835, 74.74572191705883, 76.98075121951908, 69.81183435982895, 50.85886285543923, 1.476354551732395, 68.71180756609598, 37.7318670444188, 43.92560117745684, 9.375702898681194, 82.76587371614757, 69.90085368343657, 78.76834314686985, 36.942817794025615, 96.76412542149025, 19.03364207597872, 89.87307040782157, 19.643408508682526, 15.482976175750673, 93.80583572672022, 24.787960704827206, 7.104839800194296, 75.83082028059162, 77.23067352382988, 34.67959138996897, 19.7382315148236, 74.0993416009255, 46.50400312579555, 48.576939695789214, 33.63416007709033, 36.631375793946894, 63.430069780827395, 7.129087348794815, 45.15617810739953, 32.734305747947964, 47.23610013797538, 49.15360130668896, 38.18662163917062, 12.309018774127157, 43.552460919821016, 51.16524401793349, 95.96003735757499, 76.01014494599585, 8.263050178206722, 97.98500576345901, 48.252844904315054, 4.208265298137725, 21.275341538633686, 60.27976943462242, 11.141836047394671, 37.907477764199356, 71.48804137474731, 63.10920793965915, 87.19238612850526, 58.423272238664545, 89.71778776372355, 92.8389806511998, 82.2142514421169, 64.34833625403469, 93.4003654220058, 83.04982521109142, 40.89767252175274, 7.453815102856209, 79.56391975257847, 66.81158810874966, 90.87581174271911, 51.73529462932387, 69.70397589944109, 55.92858105109132, 55.461068782613346, 68.62967339582028, 12.649698842749512, 94.88606529985367, 71.10954531964308, 39.045228441856516, 72.8146822843965, 55.6582986466756, 98.86143403703821, 42.96066657972125, 34.4686651582598, 28.664347701737704, 34.23008287270864, 61.4523915398913, 99.2753470385642, 26.578584473292967, 8.492398472623485, 54.17965195781853, 1.1071382184844158, 91.37647845870399, 96.73155317056646, 19.554940974467826, 22.98000108453365, 71.43679550320721, 51.356280346361594, 31.23233992902247, 49.976213146848536, 78.64827532119203, 49.10725110591583, 63.72069593369727, 82.51297268984261, 20.16103836521028, 66.04017897185113, 45.04675002773136, 79.65135865271026, 38.43227025947687, 33.6421355929552, 75.24975105180506, 44.53193459739523, 73.33394226137548, 69.3957911026282, 99.86229008855281, 25.05313988253236, 73.90384696054643, 45.41463079489838, 87.93006487158718, 60.108465027365085, 10.854833873612801, 47.553729481727835, 33.54289430476255, 13.771825109320934, 3.7709091321917243, 93.43557808267133, 50.21308236855353, 99.41410027677132, 48.138783955946664, 45.57501166652306, 15.498948771694554, 34.10419014121653, 22.41827085513972, 72.09402899343814, 29.401278808434572, 73.39652057413288, 89.77236372707668, 27.521281422898134, 88.5680933626153, 8.055907119639771, 26.965939102847592, 77.94697266031709, 34.73094284157351, 12.000586380363366, 92.35057211116239, 66.80647166283703, 98.84503163252595, 2.829349520399138, 23.77759397963547, 99.8268021101221, 78.68819799653201, 82.13258167164894, 71.54306164010697, 14.412942593893064, 87.59465123752041, 84.20776299463935, 97.10866354512248, 52.460761825104406, 59.91434417007678, 55.53749639141369, 2.1209313270876384, 33.802032541561644, 36.14176764704921, 14.569042292985612, 44.06305123974013, 63.47441827013321, 32.866150118573735, 86.1207169922899, 62.38356475294552, 27.357496526630364, 1.7825066105248144, 92.89752242951701, 96.62167287100296, 66.4047141866898, 86.93214034404147, 42.94233158387236, 25.03365142785111, 66.4881116461068, 93.76641498781174, 66.56707448557493, 68.51959355093538, 35.12642067338499, 52.47448225258849, 11.388000396881036, 69.4769280180745, 37.883407638599685, 66.05186122115231, 76.42590838986452, 57.98842966381531, 62.879447337580054, 24.189993178881707, 79.62411449423085, 12.869267202509416, 44.294884059441785, 70.79333951589703, 60.82274962284554, 7.808982894124917, 12.749223579494274, 53.508083671987514, 10.449377569607766, 48.55779297975678, 23.586963677217764, 55.973536870476536, 38.399732303389975, 86.86902909490178, 93.67108985455899, 35.85682807302596, 96.05695832595022, 92.81378915013808, 24.604018586732433, 9.854399795123104, 77.48641397414494, 3.9048263194792043, 11.726781382004525, 65.35301711553954, 63.765024722452864, 80.35861090946946, 74.8998818248057, 52.43522790602033, 96.42951041929372, 7.045433769773101, 51.98793204391365, 17.097825072045715, 98.4657087342539, 86.31256576284693, 84.7919559333086, 20.34133870807454, 52.63450964816534, 55.62503131993366, 30.125103499999717, 42.94727509728883, 29.06354740703928, 89.20015964585313, 41.488141709222816, 8.320330484884176, 78.02930119313163, 2.7403745750181785, 14.97045179465567, 36.88679538429538, 46.35120502545509, 23.076996398638585, 57.01819902834172, 76.53710955731368, 98.40045677802559, 25.14143056449012, 50.44543159422603, 0.08812728655731572, 96.29350889399383, 90.25636286613576, 24.938167291029266, 56.50325811317456, 32.531637006976176, 81.72697151279394, 71.78685780703704, 14.748139082648004, 85.90316752889592, 22.706398081982215, 30.168871693932374, 39.81200375116525, 73.94202473838435, 73.50927045137766, 67.10615571583149, 74.29697357098799, 16.02845291343685, 48.81634437018428, 47.27648605278642, 65.59428453119062, 9.41494395283936, 87.23123418198622, 56.0425269847096, 65.78341966938144, 83.218186380444, 48.226952083035926, 61.94786772835597, 94.12840827436206, 22.89985703549162, 18.781952793192158, 17.78040858634087, 0.5831055335181023, 79.92073885565672, 59.05772361798955, 64.16544093660535, 1.2897610420125605, 7.905648123192743, 53.84182375614222, 42.204148026318734, 2.182576242329426, 57.08639323737832, 58.76307144128658, 38.89312283280469, 59.26636143926217, 46.49876730889626, 27.815587567655598, 32.76291058345333, 62.76300287007518, 41.64441972201301, 45.47714067906029, 3.125671194640489, 30.30586818209612, 24.988489398925505, 97.92271747343361, 67.03431163252951, 78.4998792298303, 2.143821597510487, 78.03206869421724, 61.771663711612725, 45.727007491754634, 87.87802161666406, 35.75596853964692, 1.2816403971686818, 17.86067624102857, 71.05333964876304, 30.608791004506188, 29.85679607678502, 62.707239412441815, 44.21540270131924, 46.03232766112186, 6.215821395984822, 4.208887525848226, 74.88588301820283, 81.98570581735783, 23.127005286872894, 86.87659274713108, 48.68244348958095, 80.61072039168047, 59.43056841465523, 61.56602081113991, 94.55656342078889, 95.65496493304498, 79.98049455719513, 41.25277948561238, 45.77802988284604, 56.139959616026026, 74.60568777400458, 51.6548037341647, 82.10082041887622, 59.54872230137632, 50.10530078761934, 14.570615893523975, 97.76649284965976, 68.55722202965204, 7.7787498521188265, 18.576592933829694, 4.973570625021361, 27.589428785506698, 99.96589094255785, 63.330388279190686, 91.04857326748504, 64.13459808580924, 79.45672957406535, 77.28367162032647, 84.18918043581412, 40.011706219397084, 80.8886874202517, 7.21847133340291, 13.557883323346488, 38.86411386569995, 97.66092579801115, 78.86718191016045, 96.86746611233052, 36.55336496034851, 37.73143905451663, 25.43709409149558, 99.5787787564586, 83.49169187351826, 40.66705776125056, 37.89444873882572, 80.04374160234151, 43.251581662273374, 61.63824280043545, 76.12983912667839, 29.61471501799976, 33.72430659294865, 56.48434570462911, 22.091542271254827, 24.50737400615759, 60.659612866731585, 91.96940169005133, 14.560787083128945, 59.8360278861499, 86.76539051544306, 87.58369807969788, 25.61955174687397, 48.95374147438366, 80.14138682938817, 85.11817733077852, 17.346783693099866, 20.04106659909054, 28.602536052219772, 21.85798476779903, 23.004196581363743, 65.74471929853446, 26.825319576114047, 44.9084759297147, 3.0359950623377374, 39.58732851701032, 26.70444316871744, 80.67543145504244, 36.390886459177764, 84.1603989961028, 78.19886117750153, 87.57661087876342, 75.97521209400848, 72.38022632385169, 26.520399806492545, 34.59630002773735, 77.37144786308772, 8.767264268750829, 66.47335291479042, 58.62254778958277, 34.33373428727644, 76.24122110370718, 27.734754257814053, 60.50290370063035, 80.18337290028298, 74.76045293478639, 13.466834856447962, 87.3633668229464, 65.68398353552409, 47.11317959686369, 99.09214456089627, 33.641821646340894, 14.647468491033877, 36.26103005288547, 33.175203487525195, 31.384712775726754, 34.43980155289128, 72.86835401291351, 53.88578757223065, 78.74209429292696, 85.47555188259456, 68.75960063570878, 66.2403539826553, 36.837658505108216, 42.721328688576065, 6.979861708854895, 23.668273738053013, 94.83030859178777, 37.309098479752514, 85.56213841891783, 93.19528049818547, 32.378240295240765, 15.491053477543526, 32.49086971808267, 85.50988266579111, 60.335130634271614, 23.539729813806996, 84.85581938108544, 60.028058032935895, 6.2020205761083025, 49.83751051195574, 66.9149150766098, 77.7055243178511, 2.7187585298339534, 81.5306442329759, 36.26978634337472, 76.94228190893593, 67.91442135495342, 10.67894309687495, 11.325094738151808, 95.33514734110852, 88.94938624858813, 21.997379813863116, 81.78688923523735, 38.84277021257524, 19.372001922018345, 82.32678135574965, 66.86694188139298, 81.01036033499304, 18.45387816324948, 70.48313285487527, 96.33070711258091, 17.818819791055763, 36.4164447869618, 21.180566477217155, 71.11635267907211, 8.40693010471174, 62.58539561858694, 77.41299022850248, 29.7687729685034, 49.95485761626626, 13.666530978034718, 23.444199031181157, 94.67521582239553, 11.648328328746583, 49.46633581120188, 87.33410139092199, 15.354083195317237, 98.85025212486333, 73.94113168283826, 26.557478433280036, 82.22329162852608, 46.2338985063828, 91.86400573584565, 4.282180316606121, 59.61613085280714, 33.84620591007719, 97.78563044392138, 65.0865895701642, 95.56350973011546, 36.040685412098384, 9.196091847221965, 53.70396301169019, 91.63588183932035, 56.49432074535245, 10.745984805400955, 81.1370548032496, 67.71530151030575, 70.9681294651689, 32.02344569731832, 87.09267606578004, 23.699567657145426, 25.25427798631734, 31.270814576704975, 77.74217452424375, 58.13322790816772, 87.12830310777218, 71.24023380882218, 24.95559074338598, 18.8067648107908, 38.3459394038418, 68.33439180123452, 14.357702172292807, 61.82703866013283, 74.49250371172381, 14.831036714375722, 9.160554307096358, 94.56753427891805, 84.10603204754918, 1.4566102384881652, 98.30198187837922, 4.407174380109202, 76.49522684622059, 8.960243720446181, 9.504485909383165, 87.19877588258178, 19.646089015826828, 33.631264416346895, 19.768276256401673, 32.765708769221604, 72.41361203427105, 24.23524464374355, 95.70428164547506, 49.67639833761701, 64.5503662696459, 48.035627634556, 57.82044065948867, 93.86467980064465, 28.231290354655126, 96.9705234736006, 36.82701211502334, 79.18477405308222, 15.083709113962263, 56.63324231312645, 23.24930261541026, 66.24752980408584, 72.74876019465951, 20.911198013499398, 0.9407158847407615, 95.91674601496656, 77.79249514786916, 93.18941456065686, 26.068452303613764, 75.5547231187043, 78.23986179601853, 35.70231675000108, 42.42521559304813, 47.007306580631294, 9.887030403230579, 2.7365498315444436, 80.0186215444776, 60.97640726452429, 98.89878152662835, 80.86777612432698, 4.4364509387594175, 19.183716317194243, 17.7091782050112, 97.38477011690364, 80.60080811709652, 10.677158919420936, 68.36776115971894, 22.382278106327547, 96.89091195676089, 14.609266074197446, 55.631825528321386, 59.171978093335134, 49.36245618790635, 52.87548595284299, 12.661037973434308, 49.68905830613295, 61.2722325072609, 29.834865053957095, 61.036889000929264, 7.447354577126919, 15.100510597606409, 35.320044784069125, 22.88355259554411, 0.22246700885035775, 23.534662145461517, 22.42734391734057, 51.91248305514736, 30.42604233371289, 48.45653534304153, 63.28797698832648, 64.73846269816234, 19.14301669378379, 58.003931341497925, 3.738137041338685, 97.89797601813333, 97.08990665406813, 26.67017377087395, 37.53656535830279, 26.905696916675957, 9.884786127403677, 60.88334879000601, 99.06541698021853, 57.744609382962075, 86.42511093928053, 62.89874087867808, 31.175922988150962, 29.39802448965203, 72.21616880048346, 95.65511367660005, 88.98261687704057, 85.86420484846428, 70.32818470623899, 65.35167289811645, 42.34816482380571, 40.8066795957687, 32.36868954559816, 76.96592220730973, 4.97531121115018, 96.49201201764295, 48.57826005994866, 50.6850409428437, 69.11224350667857, 3.4841838065725605, 13.830765127546417, 29.88480990695702, 52.251032896571125, 91.16643376443596, 12.445141158942597, 14.563178229852191, 68.86289015429391, 3.316046046511034, 61.658538663733395, 32.66444399717449, 86.61740041132249, 26.302890057331496, 6.489329829298606, 32.178799353812416, 28.637703863461926, 57.61735456610254, 55.15555825362446, 75.70187239683587, 4.955154555409392, 37.90519797140751, 64.5240164212678, 41.819005620812064, 53.30897812985022, 41.43681703702706, 40.71611986643753, 69.25635857677354, 19.06762625827001, 73.25675985696412, 65.87708793918065, 15.156567217831917, 30.743272534820587, 97.31865020774538, 46.49960638861093, 0.15677356236244444, 71.14453380407997, 67.5454604742903, 96.89288749996197, 47.421840564790486, 13.818284791223356, 62.227055217470564, 96.46262861745815, 8.40559363386565, 87.77132190287408, 21.93007196468467, 25.183534159375498, 45.92569184309632, 83.26724786190762, 86.50643736866319, 49.61831997492274, 97.24082969006663, 51.66880774193654, 57.08304727681871, 57.91849506108703, 15.823740731098045, 54.40361203788724, 20.323836575678243, 92.6046656790947, 96.21570610354676, 72.23272728551889, 27.742408895767934, 40.42916753985387, 27.59000202026328, 33.37601975062072, 30.100985392809363, 67.81528103631624, 74.4788701738301, 67.23576603540677, 47.495098598053644, 60.40577578506705, 74.16668668342439, 60.94561260643374, 71.75754405141215, 50.51322783959502, 60.64317440173815, 62.44555037510388, 95.29958094399824, 8.956840250156617, 17.958143059337505, 56.3493530684779, 62.03977972298114]\n",
            "Enter mean of normal distribution: 25\n",
            "Enter standard deviation of normal distribution: 15\n",
            "[ -2.46191773   1.31721671  44.19553624  46.71228629  43.45007731\n",
            "  14.99756044  27.25683528  29.12290995  35.80149063   7.98621092\n",
            "   3.78641165  24.4001974   23.15557454  33.6229017   25.21091302\n",
            "  18.11760152  37.33110802  52.30575384  35.55185654  19.65131116\n",
            "  17.49617593  46.39399963  24.33514032  34.09209697  16.647837\n",
            "  -1.88762248  33.77129836  60.21999545  29.07770516  39.5979495\n",
            "  37.2953378   28.45564187  25.53123046  26.21169458  19.49687437\n",
            "  25.09883407  44.84430055  38.2242751   25.93018708  58.64658442\n",
            "   4.08017895  33.74426458   2.01555263  12.45803849  36.14922227\n",
            "  33.64721263  55.80080388   5.13498277  24.33591973  33.86757887\n",
            "  15.88157424  12.6613712   14.11814749  34.75512833  11.42597457\n",
            "   9.17637297  37.76443141  31.07595732   9.23278471  32.21682973\n",
            "  24.04525108  13.01594646  19.90074778  36.02536926   8.49574378\n",
            "  12.17615514   2.15773021  31.00746282  43.87191229  10.54183486\n",
            "  26.17060453  32.29684858  -0.56017506  11.07046722  34.83295938\n",
            "   2.18697897  24.39918356  20.42833855  26.75405157  21.101397\n",
            "   1.25583869  15.13499874  49.6885928   -3.16494339  46.95784933\n",
            "  15.79425961  58.02210968  29.36203951  40.50467158  10.92725554\n",
            "  26.1579117   11.31740438  12.33205631  15.44475719  31.31645638\n",
            "  47.97950678   8.19966517  25.51770469  23.0532119   65.10915161\n",
            "  16.88341386  28.40235691  25.21138792  31.40233976  15.41110993\n",
            "   5.06587996  57.54469659  25.09813028  16.52753947  24.72234972\n",
            "  27.80544977  28.68413651  37.40167192  34.33885978  13.2741968\n",
            "  40.25002116  41.37628839  26.44738956  31.54723476  19.79139924\n",
            "  25.29801112  15.0666447   36.41264265  50.09236821  44.2628498\n",
            "  38.5959278    8.70383605  14.2917634   19.23192263  25.79039245\n",
            "  28.8540136   31.9787718   46.23114836  41.5474586   35.08308429\n",
            "  20.73158026  27.10832399   4.72724903   3.02223875  24.24592798\n",
            "  21.22592051  18.68867588  37.86421679  11.05524526  -1.74883334\n",
            "  14.08758348  35.08706955  24.79653114   9.20357558  14.61624422\n",
            "  22.10252908  47.40482871  19.56357884  46.59954939  25.35401709\n",
            "  28.42759614  37.23048181  37.87532088  35.65508657  27.32159303\n",
            "  20.85317132  18.55428377  22.03261292  38.8780738   38.02000408\n",
            "  30.06374885   9.61380372  28.11813537  36.00454863  59.91169209\n",
            "  26.23860449  11.57494765  11.51665171  24.78180702  25.01650877\n",
            " -24.60011119   4.3566348   55.9764431   13.05517842  15.04408189\n",
            "  13.63502948  26.31465098  26.16058089  23.60299015  34.00349417\n",
            "  34.1520488   48.73471074  29.17709959  24.7925396   29.67930944\n",
            "  19.87213953  30.97396794  42.30722895  27.34593213  14.09550067\n",
            "   5.16818307  34.49083566  44.5420304   29.65306016  26.3259539\n",
            "  21.59420713  27.13340985  37.41862771  -0.95128682  -1.20824517\n",
            "   6.00856873  26.10211937  39.13364086  17.89641549  32.42356113\n",
            "  33.71147261  29.89482506   6.32321966  31.0528796    3.89889771\n",
            "  12.55091825  44.30849916 -11.56301726  49.75190847  26.88211662\n",
            "  40.59148856  25.57846565  53.07034634  -1.44305029  23.26590031\n",
            "  24.86681487  32.50445538  -9.16893088  26.32964187  11.07992407\n",
            "  24.90491637  39.40616883  14.08312469  34.77376016  26.4617336\n",
            "  15.94468861  21.54925513  42.13128197  42.57843114  14.03235366\n",
            "  30.25828955  20.00231558  25.883195    31.03399975  14.822144\n",
            " -17.93058371  18.66029894  41.77732946   6.42750816  19.70087604\n",
            "  27.92128132   1.25721997  26.55039952  36.07745912  63.54421674\n",
            "   6.7408083   20.02959653  19.03857622  14.13223698  49.24633221\n",
            "  35.20738228   0.16956647  33.28506913  33.41709621  29.96406093\n",
            "   0.34719371  66.57097221  49.45437329  37.96420104  14.42030518\n",
            "  26.37537744  34.74784766  62.37738069  34.05898625  45.71592904\n",
            "  14.62316735  26.02681484   5.52504317  34.75316755  37.74183348\n",
            "  12.18412503   7.39213995  31.29140969  25.76916259  18.79741158\n",
            "  21.21621034  31.38606648   5.37152476  18.84969889  34.95044331\n",
            "  50.29299041  19.52472401  32.0209916   30.15409737  16.32430977\n",
            "  41.37680123  43.55629801  36.18241896  22.42433978  16.56254667\n",
            "  18.39436365  11.16166768   0.16400459  57.56447364  30.33953756\n",
            "  29.5405209    3.55301661  18.46152888  33.06512773  32.55158987\n",
            "  54.10956959  39.28214044  40.04670189  -1.96816409  37.51090413\n",
            "  30.58932292   6.70044014  38.73563308  31.15586671  17.30406079\n",
            "  39.48409333  21.41362552  23.94056824  11.36854338  40.59931056\n",
            "  21.97262231  55.78602807  44.68640724  38.97201662   3.59726311\n",
            "  19.95221942  39.30109313  31.63549458   2.72132925  29.88428918\n",
            "  31.83170615  50.96041467  10.54489807  49.44633102  24.02849099\n",
            "  44.08828653  44.68316214  23.46767689  18.64994557  14.16948728\n",
            "  15.67588133  21.2695525   23.03663513  39.09215836  37.7821989\n",
            "   2.34038386  26.45403192  14.2012861    9.17016017  32.24608447\n",
            "  21.92682229  13.43129986  31.02617031  30.30256494   7.10091066\n",
            "  22.59872094  12.01816187  22.80034828  19.48495204  26.55635371\n",
            "  24.53659488  36.6401927   21.02869983  20.87265765  39.02217313\n",
            "  13.75982342  17.34023151  10.15720861  39.36526604  -0.68683166\n",
            "  11.86632882   7.83794069  31.58230525  35.85738851  35.77927781\n",
            "  19.25886471  18.50585248  45.58447492  23.28468666  37.38216789\n",
            "  49.68927843  21.10676984  49.5812217   42.39933502  16.56926591\n",
            "   9.63354482  31.12716898  63.2957257   47.48909665 -35.47918153\n",
            "  16.82202943   9.63275985  13.70103929  24.10443671  15.08378029\n",
            "  27.41907029   4.52463618  30.45810498  34.90204596  32.31121633\n",
            "  44.13342776  56.75196918  31.11535963  28.12207151  26.77902198\n",
            "  14.78901963  -3.95520527  37.88358082  24.14183032   0.58928263\n",
            "   7.63016319  15.02431447  11.14240636   7.98266518  19.37649744\n",
            "  36.01183475  27.96343236  24.89885659  54.10862397  40.30184915\n",
            "  64.5193376   33.69601583  26.89948801  27.8703004   26.64307991\n",
            "  11.12893175   8.56124999  19.0912395    0.80191275  28.47185095\n",
            "  48.07962135  18.84928556  21.28437024  16.55532478  33.88709208\n",
            "  33.65071781  45.89010464  49.72710924  13.26907071  18.61432923\n",
            "  26.8999145   32.17490599   8.67287041  33.66680819  10.68752394\n",
            "  16.29980478  16.49169572  64.50287237  47.99667387  30.94542749\n",
            "  29.90196364  23.07140291  26.57296386  -0.46498112  11.61884947\n",
            "  36.90645654 -10.79830169  38.90298867  -0.87499598  41.92750684\n",
            "  15.81542413  41.42899286  20.84502432  13.96139861  13.94334743\n",
            "  15.52204416  29.68187115  23.04939482  47.36892381  36.8657142\n",
            "  32.95062136  36.76839319  18.44690064  57.3616107   15.03945301\n",
            "  32.39195232  10.17692083  26.23152127  40.88477345  29.49618544\n",
            "  14.99911526  39.67736765   8.82257282  43.82676077  37.31307771\n",
            "  36.99937249  27.67395209  24.12547376  38.19126818  30.43688998\n",
            "  35.24491685  52.29384578  -1.44388456  14.71986889 -32.47966814\n",
            "  28.55226893  28.48279917  50.96073536  28.58193578  30.84453653\n",
            "  48.80424619  49.784162    22.79234419  23.58260821   6.53776864\n",
            "  13.13485455  25.08954342  10.83953491  34.91748205  26.98662648\n",
            "  25.22918961  23.80658117  22.92713915  29.33384864  41.94540669\n",
            "  29.92892861  10.32089929  33.22742751  14.36508542   7.19855228\n",
            "  27.6703597   22.74105738  20.41921098  21.18304312  27.30675896\n",
            "  10.3085884   36.92666799  23.76931976  22.12925878  10.06778723\n",
            "  51.47043788  17.65556214  25.12530379  39.75777299  31.92243167\n",
            "  -0.42731652  42.44955751  22.87852727  26.4155863    1.45094019\n",
            "  43.39663646  21.40044357  29.93471951  25.25129484  21.13938313\n",
            "  33.02932289  38.06088697  38.9607531   32.64249668  41.58245843\n",
            "  26.93626613  22.08015615  11.4613129   12.72530235  35.62022805\n",
            "  27.57026124  38.49717138  20.96360132  37.23860076  19.48836954\n",
            " -20.37761864  -5.41229787  27.75082585 -13.02184998  55.87689712\n",
            "  17.46612421  25.89251497  10.16421669  13.80783598  30.58844574\n",
            "  32.67839188   4.96773947  42.37041567  25.54188646  24.38468699\n",
            "  25.00088343   9.90100971  26.46668624  54.13948007  13.61664121\n",
            "  18.93466225  40.80471036  31.45005686  33.56118782  32.98889053\n",
            "   9.27592971  17.46705017  67.51619146  45.37849936  15.75110887\n",
            "  55.85226957  57.62615541  61.10858367   9.49323444  68.3880414\n",
            "  16.08667514  22.60292774 -32.7228248   33.37549358  64.67124635\n",
            "  27.55426024  20.96572286  22.31276878  23.13618211  38.09896916\n",
            "   5.30517082  37.88460969  28.17762464  61.3674798    2.85587758\n",
            "  11.97801672  26.17505231  49.52959213  33.45419947  47.13391265\n",
            "  18.54989626  20.0373348   47.0723802    8.43247129  28.2477574\n",
            "  34.00236022  32.71780917  48.20665852  16.83001299  36.60392818\n",
            "  30.50833146  -6.65270255  12.92565046  26.4355352   42.10728872\n",
            "  37.59692381  30.41175709  23.80061817  -2.68505438  13.92966354\n",
            "  22.58995916   5.5910445   34.36727307  30.43708808  10.72958154\n",
            "  13.40979268  27.23423122  31.73791263  24.97861095  43.31971226\n",
            "  31.5531424   35.2770462   32.31186786  13.884514    27.59509148\n",
            "   9.96841934  61.6294586   54.00324705  34.20596497  23.92406478\n",
            "  41.05596851  27.37129926  24.68104062  39.7603278   10.47567066\n",
            "  40.94039115  26.23735403  36.37663374   5.52627578  15.50601804\n",
            "  47.9452047   16.20564361  35.15834076   5.84001496  16.66534324\n",
            "  16.09281158  29.85517828  37.84511918  39.09752162  18.93937187\n",
            "  15.78429341   4.87731623  28.39046147  20.48161278  29.96954189\n",
            "  17.29859649  32.71674196  -2.99622295  12.29108754  55.92658255\n",
            "   0.187821    29.02007984  14.12282239  44.23633178  15.46305059\n",
            "  25.18013155  29.20489321  28.79624972  35.44924945  39.79853675\n",
            "  20.19319145  21.14236416  36.44955403   8.45909914   1.31020267\n",
            "  34.0992659   14.82404726  23.1353584   -5.93411998  14.20435848\n",
            "  33.34550593  32.14843302  17.66008849  17.18829556 -12.48580405\n",
            "  38.16857211  24.31794375   5.92769591  56.33062863   2.80356062\n",
            "  26.1281506    7.44833363  11.35931105  49.68322632   2.0140053\n",
            "  41.38449489  29.15632867   0.79083928  11.68283033  11.29455364\n",
            "   6.46896533  29.08058342  18.85501312  45.60328582  35.94654601\n",
            "  25.96594582  22.60907797  35.1698281   14.29006159  46.58515207\n",
            "  23.7809936   14.69911267  -1.23189027   3.17093734  30.54467906\n",
            "  33.4268687    4.31648714  34.83910232  -3.83296823  61.65740849\n",
            "  21.29562804  32.09923125  36.51745291  30.15807279  59.45630561\n",
            "  17.12544743  43.94620081  75.39423029  38.94442606  24.72246843\n",
            "   0.78480928  57.43926088  49.73734812  36.48599476  29.43675776\n",
            "   8.38977341  54.2627335   43.4775965    6.42454023  25.85794626\n",
            "  21.16969923  39.56312198  19.25790202  47.99607483  18.77515703\n",
            "   5.61708729  17.99424745  27.33091276  41.43178397  29.23036007\n",
            "  38.86003183  -5.01523993  35.11489388  26.32018305  17.04655549\n",
            "  16.53444742  27.95832322  24.35294522  67.61566208  13.47287953\n",
            "  32.37326251  31.38451519  45.77278297  30.60836646  23.24722661\n",
            "  22.68085006  27.89492719   5.64783383   9.83469604  46.89118567\n",
            "   3.83427678  18.93277034  52.56768173  15.39895382  35.06450666\n",
            "  24.57576999   0.62664166  31.7429753   32.57440848  23.21003631\n",
            "  14.32266482  15.60754315  23.22949797  23.27993287  19.96349046\n",
            "  53.72699926  20.00998746   9.52045589  41.34889995  14.31452048\n",
            "  45.41413358  24.26520142  29.11516008  30.06546682  -6.58512983\n",
            "  12.8357091   21.95111838  -0.62964343  39.86513284  29.72051188\n",
            "  19.69651885  22.71856732  21.4272105   34.62758059  24.54891049\n",
            "  40.69531075  36.1611445   29.94044529  32.76976795  44.9294113\n",
            "  41.71907126  19.46030119  19.53547094  11.34597736  17.51274245\n",
            "  17.28666487  38.23906545  25.59819552  34.55782625  18.81763381\n",
            "  26.51350044  28.61747432  36.8718516   22.38804282  25.61422059\n",
            "  32.65008936  11.40755961  22.69153583  15.94098003  33.01529566\n",
            "  29.82008826  19.61952174  33.68924     22.62813549  15.60875411\n",
            "  17.00198121  18.88626864  48.36375782  34.18006584  27.60360962\n",
            "  -4.03554123  19.96660755  -1.61225807  29.57715796   1.72228534\n",
            "  15.37636905  19.72793118  21.81424855  28.36216445  28.98933395\n",
            "  52.92757371  11.69147392  23.66108856  31.12575148  17.36167952\n",
            "   6.91551275  14.7771662   25.97110857  15.02239057  -1.22654202\n",
            "  41.27827937  30.33063877  11.88557736  16.32147267  27.3026575\n",
            "  48.83862511  31.45659133   6.2961101   37.29742503  48.50596295\n",
            "  42.35817971   8.67521475  42.21096784   3.89528703  31.40589205\n",
            "  39.59673668  24.18413115  19.27308736  55.82217073  53.55817006\n",
            "  49.09934494   2.22788452  41.76764216  19.37866733  26.23392344\n",
            "  25.72959117  36.27553104   1.9960705   30.73139302  10.90484029\n",
            "  22.02167662  17.56206532  21.89422862  17.70889678  33.01734158\n",
            "  32.25843888  12.2997756   12.62756804  30.37150185  13.70197268\n",
            "  23.11541633  26.68033031  12.45512328  19.81729635  18.09845248\n",
            "  32.49930881  33.88827749  24.76644224   5.10788529  32.53597756\n",
            "  54.08554424  46.98396551  19.65239932  20.95359044   6.13027636\n",
            "  25.76788741  36.25261271  19.57390793  68.36589255  26.34554796\n",
            "  13.22294371  13.98565358  28.51355353  -9.37419316  30.86336417\n",
            "  30.73878216  12.53282779  -1.03087113  10.91627768  37.54037533\n",
            "  21.7290824   34.0647044   23.99486039  26.4966759   24.69568073\n",
            "  -5.07289516  19.93291204  29.53322525  -5.35016795  40.29594609\n",
            "  13.79187713  19.1202599   25.15773174  31.87202305   9.17514452\n",
            "  38.21478536  31.62871956  14.81331242  -1.66227014  35.91734594\n",
            "  22.88986114   2.38406945  21.16673688  15.77553885  13.60659987\n",
            "  31.11159253  24.43532558  46.3989386   28.2855828   26.95606249\n",
            "  46.61607479  17.26467595  18.40170426   9.98740408  13.96786197\n",
            "  19.58942798  23.42783745  20.7128449   31.11645125  26.56851633]\n"
          ]
        }
      ]
    },
    {
      "cell_type": "markdown",
      "metadata": {
        "id": "Vjq0pnm6q6sD"
      },
      "source": [
        "Soluion 16"
      ]
    },
    {
      "cell_type": "code",
      "metadata": {
        "colab": {
          "base_uri": "https://localhost:8080/",
          "height": 445
        },
        "id": "b5mjf8J1q8RR",
        "outputId": "7a452e4b-b6f1-403b-97da-7040618d4f96"
      },
      "source": [
        "fig, ax = plt.subplots(figsize = (10, 7))\n",
        "ax.hist(population3, bins = 500)\n",
        "print(\"Histogram of population is shown below: \")\n",
        "plt.show()"
      ],
      "execution_count": null,
      "outputs": [
        {
          "output_type": "stream",
          "name": "stdout",
          "text": [
            "Histogram of population is shown below: \n"
          ]
        },
        {
          "output_type": "display_data",
          "data": {
            "image/png": "[encoded data removed]",
            "text/plain": [
              "<Figure size 720x504 with 1 Axes>"
            ]
          },
          "metadata": {
            "needs_background": "light"
          }
        }
      ]
    },
    {
      "cell_type": "markdown",
      "metadata": {
        "id": "BRad9z9Jq8l3"
      },
      "source": [
        "Solution 17"
      ]
    },
    {
      "cell_type": "code",
      "metadata": {
        "colab": {
          "base_uri": "https://localhost:8080/"
        },
        "id": "GaZC-fngq-g0",
        "outputId": "69d6c1e7-2e43-4430-e88d-15d9d4a37db8"
      },
      "source": [
        "print(\"Mean of population is: \" + str(np.mean(population3)))\n",
        "print(\"Variance of population is: \" + str(np.var(population3)))"
      ],
      "execution_count": null,
      "outputs": [
        {
          "output_type": "stream",
          "name": "stdout",
          "text": [
            "Mean of population is: 25.53044516576494\n",
            "Variance of population is: 234.98010554384948\n"
          ]
        }
      ]
    },
    {
      "cell_type": "markdown",
      "metadata": {
        "id": "WmAYgu3aq-4B"
      },
      "source": [
        "Solution 18"
      ]
    },
    {
      "cell_type": "code",
      "metadata": {
        "colab": {
          "base_uri": "https://localhost:8080/"
        },
        "id": "O5cqm4CqrBZY",
        "outputId": "932c886b-55e6-4a94-d123-65535e113e71"
      },
      "source": [
        "n = int(input(\"Enter sample size: \"))\n",
        "sample_data = random.sample(tuple(population3),n)\n",
        "print(sample_data)\n",
        "print(\"Mean of sample data = \" + str(st.mean(sample_data)))\n",
        "print(\"Variance of sample data = \" + str(st.variance(sample_data)))"
      ],
      "execution_count": null,
      "outputs": [
        {
          "output_type": "stream",
          "name": "stdout",
          "text": [
            "Enter sample size: 25\n",
            "[20.731580260214667, 22.312768778742857, 29.653060159405857, 12.550918251977892, 23.284686661226537, 23.427837446582828, 63.29572569669794, 6.424540231476705, 22.3880428173658, 29.681871146093584, 12.925650459762199, 42.3704156725437, 28.402356906022884, 48.734710742858965, 33.71147261409505, 16.205643606158446, 29.230360071771422, 23.053211903536813, 33.02932289120058, 24.399183560155254, 33.74426458216292, 18.817633809608193, 25.354017087583212, 23.994860387673967, 14.083124690228859]\n",
            "Mean of sample data = 26.472290417405887\n",
            "Variance of sample data = 145.4510661387164\n"
          ]
        }
      ]
    },
    {
      "cell_type": "markdown",
      "metadata": {
        "id": "KAaCSU3hrBr7"
      },
      "source": [
        "Solution 19"
      ]
    },
    {
      "cell_type": "code",
      "metadata": {
        "colab": {
          "base_uri": "https://localhost:8080/"
        },
        "id": "zB9bqi0UrE5K",
        "outputId": "cf5fcbad-78dc-4f66-fbb0-c68812c5154e"
      },
      "source": [
        "n = int(input(\"Enter sample size: \"))\n",
        "m = int(input(\"Enter number of samples: \"))\n",
        "mean_sample3 = []\n",
        "for i in range(m):\n",
        "  sample_data = random.sample(tuple(population3),n)\n",
        "  mean = np.mean(sample_data)\n",
        "  mean_sample3.append(mean)\n",
        "print(mean_sample3)\n",
        "print(\"Mean of Sample mean Distribution is \" + str(np.mean(mean_sample3)))\n",
        "print(\"Variance of Sample mean Distribution is \" + str(np.var(mean_sample3)))"
      ],
      "execution_count": null,
      "outputs": [
        {
          "output_type": "stream",
          "name": "stdout",
          "text": [
            "Enter sample size: 25\n",
            "Enter number of samples: 500\n",
            "[27.652782288983854, 25.1687034523483, 28.78315669862361, 23.491263516319865, 27.983532943849564, 25.50031616415295, 25.636999091850697, 32.17389437415796, 26.078425119060938, 26.933256001042775, 23.03345130049236, 31.24539661359229, 25.936749488353726, 29.88564772291486, 26.23963459200506, 26.912857416261623, 23.139738501314326, 24.632348173886125, 25.099961159249375, 22.92559664950639, 29.52771729837046, 31.739398311229376, 25.33760452615742, 30.460876562783966, 28.516746655020867, 25.329445551800767, 18.84568037642631, 22.804561641883446, 25.591327257502368, 25.313092310945464, 22.76610292548238, 24.35416912577438, 28.081298311110416, 23.790734951107744, 22.616159402770712, 23.618396461383234, 29.290720955539296, 26.850687677660886, 23.274872012555814, 27.797846439755837, 21.62370661065445, 23.475334310180514, 23.533477329333675, 32.64542450243721, 28.56147464939037, 27.082135037245365, 23.626167370875258, 29.52461122781624, 27.51834918739468, 23.53125743398695, 25.45162556727416, 25.98083801704248, 27.929106322866076, 27.129362938831914, 26.709641068661345, 25.37952122735935, 26.948701677506122, 27.334867531511012, 26.696595416882182, 25.762569690307156, 23.870033918145644, 20.42525197438601, 23.939634113408452, 33.69019363462391, 27.087493908843236, 24.543621961597804, 26.005831000744077, 32.161514454735354, 26.430200939356283, 27.616383373132617, 22.721544551817914, 26.660927414987565, 25.025273225769535, 26.513815444861333, 27.097202097387203, 28.888371836112086, 25.70644553604202, 27.22909487291013, 26.908762735213227, 24.171166963469474, 26.894794249446758, 29.38811863645226, 21.487560316307214, 23.530703382414796, 27.080440664985407, 24.20933500704345, 26.691550134833662, 23.245044913740003, 25.603066571816086, 25.86979591533418, 21.558389070687102, 24.912324664599222, 22.41950393028964, 28.53637673935689, 24.40119104028126, 22.22711413235977, 21.27708085595968, 19.128359036296505, 27.735860558206976, 29.457459568266632, 25.238208791503695, 26.584570302628375, 23.69993379454628, 22.7230250204394, 31.973832240445223, 25.96738073345655, 24.93907874705971, 23.15603051858565, 25.65988502455605, 27.015301405655823, 25.92065154708244, 23.607765260125184, 28.27717961350915, 30.87811328364127, 24.020112689434974, 23.96599365276622, 23.151012136363388, 26.41197740305615, 27.194594376667947, 24.840832786177554, 20.004934575390863, 29.763069615608643, 29.59398682791786, 28.21484390606471, 22.997294459743504, 21.94148983139723, 23.37497667270408, 23.545885044050742, 24.118895966069452, 23.483478177242123, 22.158321354829262, 21.615215464433696, 27.394839912536103, 25.626920438236006, 24.37055149432683, 28.601061269127836, 27.113633383941565, 27.05845098897215, 23.71485944199019, 25.030371956375365, 26.567698310139168, 25.929104050370356, 25.875768528022924, 25.200038888837117, 22.39365350978491, 20.49455042764969, 30.100157124753068, 29.59810899065578, 24.52578344679729, 27.708671362862546, 21.72862556317701, 29.562200651274456, 29.23798024812627, 23.447091485279365, 25.115791319041058, 24.10477325205492, 25.881437986071173, 25.99506579416831, 26.654492031937703, 31.60722586253222, 27.498773999813825, 22.19457811944434, 25.266811128539818, 25.276419963621905, 30.095219113587447, 22.785602376791218, 23.37225681902787, 23.936125348631904, 27.374342939807875, 25.412963448000575, 26.575997088031063, 17.038652703279155, 21.477292853911248, 21.8559111311036, 29.20474978593914, 28.592133391899825, 21.92027522428775, 30.333545348537157, 24.02642082296997, 19.87769789048148, 24.08263912275821, 28.591322281941064, 19.206264858460184, 25.26085891438606, 24.68300203471124, 23.54434944754928, 25.882543961869086, 26.294307246694416, 25.423912367651084, 30.045026430560238, 26.239150463898604, 25.91179348720446, 19.369382984736887, 26.942493228123357, 25.636603531598958, 32.24046433874655, 25.561332060435785, 25.43539998277345, 26.73280397597391, 23.181323696403414, 28.028542766696454, 26.248052294809607, 21.6756192032312, 24.763957437433024, 27.596021048982415, 27.306363561890112, 29.220247878528035, 26.518239354017165, 24.45549025426872, 27.166113474562327, 30.45497191304891, 27.24335429288525, 26.914891963737972, 19.460923742333286, 26.489608650264028, 22.971644472768254, 24.867292474961904, 25.527596044278898, 24.28881073525983, 18.872983290539636, 17.771992122262276, 27.479988861109465, 26.32619640563015, 24.094966151435656, 24.066228015935284, 21.58265218683565, 25.712330287659537, 29.309982500408267, 25.906856133374834, 28.497701304193274, 25.63858935485791, 22.160575186511807, 20.791293025771633, 30.21938620580732, 27.88874627412011, 23.647130643974297, 25.081183728829043, 28.823997884187293, 23.705063292856106, 31.678312533778225, 26.56877617109769, 23.371676244237207, 28.921179498121628, 25.142357567261637, 25.138502799711308, 26.939008433807622, 21.674848055263457, 26.791182437485823, 26.747240237812676, 24.1878334378101, 25.381617878427473, 26.565603475507693, 29.26005002315259, 19.50167456390094, 21.091331423662588, 22.480771091325074, 29.76007106064907, 30.862847816918297, 28.616168526411965, 22.34249568318271, 22.22809581688578, 23.535165777248526, 22.857805158613242, 24.40279445282673, 24.12441928323217, 20.03654476857629, 21.26491868899965, 22.931072893410363, 22.97161323845228, 22.54682821890403, 25.61138025442483, 16.61838420513424, 28.548789233099864, 25.052858711811993, 29.644094414121778, 26.279723090224692, 25.088938349869263, 25.365749732924638, 23.447338659900197, 28.2139448988343, 26.879826262873213, 23.434137263811163, 23.367479193438307, 24.091225573746566, 25.333109106859496, 31.839834630294373, 22.683111176845824, 28.754064579390807, 27.98658572788454, 20.43795228894841, 30.656495395400494, 25.85048858664742, 25.097414341052485, 28.15903934340403, 22.172008027634398, 30.18067118774724, 24.006121488076978, 24.920362486839334, 24.604100081996616, 18.924185342999348, 23.299355597983254, 17.60307502794541, 29.538549421165776, 22.319406524267357, 20.95239270542771, 26.668833576194157, 26.6253229352111, 21.534411210618785, 28.264566245000786, 22.168391901538975, 26.093483976616827, 22.255321029671517, 25.078556016290023, 25.83812387661231, 27.08774808082075, 22.524762141252474, 26.132851554823063, 31.879478846792463, 25.374616687313768, 21.660156579901304, 26.57422635726212, 27.61231741559009, 23.44980798237576, 31.232197979855478, 21.741174980768736, 23.65319676079414, 26.614944056494696, 17.72354786779464, 23.33929012588806, 26.931112531216172, 27.312575899974412, 26.43615247523902, 25.703606384125965, 23.90037485352088, 25.714795993206103, 28.450899772898794, 28.657521239660092, 21.838054547152648, 23.988047332100987, 28.83172335318758, 27.355380086078547, 25.11903839502911, 29.53664150763804, 27.705730970259296, 25.46833015714916, 26.35943599872629, 27.007341384814502, 26.164434892241378, 21.854828287888008, 25.942272164321157, 24.00136705707558, 25.54479348303071, 27.766587831997004, 17.389819972697126, 21.914009362945897, 21.559981515383793, 27.061342472439314, 20.27496726503846, 27.113779963520354, 28.581965203593853, 25.44021387251684, 28.192006705351268, 28.935649845700745, 28.08899197395783, 24.30616967892827, 26.95531134527917, 29.381682461633623, 25.22737454259679, 25.621650943986424, 24.529860249810195, 33.09666131831855, 24.532816633901756, 25.335706445368164, 28.02073180914334, 22.888125728097727, 29.197607250499523, 26.544718302616552, 26.373227950044463, 32.99780425667315, 24.174998757282292, 31.846743670261773, 26.169168898795032, 23.621632826336082, 25.994103395952585, 21.467546012836056, 20.994043219669784, 25.162867851955344, 23.270807444087776, 24.510287457992877, 26.561571837002198, 30.02255043310112, 32.06178679722272, 24.896434938917906, 24.577717441215068, 26.547633894785644, 24.231728682866375, 27.546346131567535, 20.68667886830305, 25.164099965194428, 27.566040657939038, 27.961300211398388, 28.150149754037347, 25.847345613659463, 25.93926009555467, 27.158467139938008, 26.247955337387335, 19.81357231414096, 28.997218118573887, 29.509935283927174, 26.247267564648105, 31.293414996714183, 24.3414125559808, 28.736403205085242, 23.01695130851066, 26.996868647748844, 20.564247460206794, 21.979589463646047, 27.863554693635066, 26.443287033948994, 22.620931878955602, 22.070172003583664, 26.76813004386586, 20.983881750196446, 26.74249217915426, 17.57765067993448, 26.02681974363121, 23.150214984816166, 20.70952940985532, 26.898706815024237, 25.847370446042195, 28.249672893879847, 26.824325745371297, 25.805090706515102, 24.459606394101865, 26.174634071068557, 26.485346189704014, 22.88665013901596, 26.79443044320432, 25.6773796666087, 22.767980034721113, 19.883130598689227, 30.48308335728781, 21.58870975058539, 25.608966205226398, 25.10092388796349, 22.027337178059952, 20.738799156674883, 27.48585154789076, 25.239071180693404, 25.257912205041794, 27.5599968571724, 23.781786905073755, 26.805987052791014, 24.876081811841555, 19.446929500340357, 28.095591878108262, 20.528527761713534, 20.099258722763135, 24.848359506144387, 23.520834520374347, 24.13503957327303, 30.077401794983224, 29.88228834270285, 20.433113716047014, 22.956637455519914, 24.35702242777129, 29.153343984341873, 21.86143924228925, 26.19600675373769, 27.046134413900713, 26.618260663772453, 27.650298295256494, 27.97486752803137, 21.7743707175541, 27.015562625938585, 24.121141755654023, 23.684910114070668, 31.82595051468996, 28.75010982378132, 24.38765186351013, 27.899414104193998, 27.812044068208046, 25.073867603910376, 24.388495753603294, 22.676299759746897, 22.5305640366695, 24.579930366104332, 27.443373695223258, 25.05381194936427, 29.804008943196106, 18.574643446154127, 25.72040881418319, 24.59877795158791, 19.561420510932102, 23.17301952581907, 25.24394618412469, 29.859267795720807, 25.820335593817127, 29.233810298195248, 29.234699746429722]\n",
            "Mean of Sample mean Distribution is 25.478032494654244\n",
            "Variance of Sample mean Distribution is 9.227843627774424\n"
          ]
        }
      ]
    },
    {
      "cell_type": "markdown",
      "metadata": {
        "id": "oXUiZ4czrFNT"
      },
      "source": [
        "Solution 20"
      ]
    },
    {
      "cell_type": "code",
      "metadata": {
        "id": "3UnEDv3zrGoI",
        "colab": {
          "base_uri": "https://localhost:8080/",
          "height": 445
        },
        "outputId": "392386ef-4307-468b-f8e9-bda5c92b22e3"
      },
      "source": [
        "fig, ax = plt.subplots(figsize = (10, 7))\n",
        "ax.hist(mean_sample3, bins = 500)\n",
        "print(\"Histogram of distrbution of sample mean is shown below: \")\n",
        "plt.show()"
      ],
      "execution_count": null,
      "outputs": [
        {
          "output_type": "stream",
          "name": "stdout",
          "text": [
            "Histogram of distrbution of sample mean is shown below: \n"
          ]
        },
        {
          "output_type": "display_data",
          "data": {
            "image/png": "[encoded data removed]",
            "text/plain": [
              "<Figure size 720x504 with 1 Axes>"
            ]
          },
          "metadata": {
            "needs_background": "light"
          }
        }
      ]
    },
    {
      "cell_type": "markdown",
      "metadata": {
        "id": "hptIdRsKrHar"
      },
      "source": [
        "Solution 21"
      ]
    },
    {
      "cell_type": "code",
      "metadata": {
        "id": "m48TPH0JwSNL",
        "colab": {
          "base_uri": "https://localhost:8080/",
          "height": 1000
        },
        "outputId": "dff54bc4-abd7-4827-c84f-bad75ef0ef0d"
      },
      "source": [
        "population4 = []\n",
        "for i in range(1000):\n",
        "  p = random.uniform(0,100)\n",
        "  population4.append(p)\n",
        "fig, ax = plt.subplots(figsize = (10,7))\n",
        "ax.hist(population4, bins = 500)\n",
        "print(\"Histogram of population is shown below: \")\n",
        "plt.show()\n",
        "print(\"Mean of population is \" + str(np.mean(population4)))\n",
        "print(\"Variance of population is \" + str(np.var(population4)))\n",
        "n = int(input(\"Enter sample size to draw from population: \"))\n",
        "print(\"Predicted Mean of Sample Mean Distribution by Central Limit theorem is: \" + str(np.mean(population4)))\n",
        "print(\"Predicted Variance of Sample Mean Distribution by Central Limit theorem is: \" + str((np.var(population4))/n))\n",
        "m = int(input(\"Enter the number of samples to draw from population: \"))\n",
        "mean_sample = []\n",
        "for i in range(m):\n",
        "  sample_data = random.sample(tuple(population4), n)\n",
        "  mean = st.mean(sample_data)\n",
        "  mean_sample.append(mean)\n",
        "print(\"Observed mean of Sample Mean Distribution is \" + str(np.mean(mean_sample)))\n",
        "print(\"Observed Variance of Sample Mean Distribution is \" + str(np.var(mean_sample)))\n",
        "print(\"Histogram of Sampling Distribution of Sample Mean is shown below:\")\n",
        "fig, ax = plt.subplots(figsize = (10,7))\n",
        "ax.hist(mean_sample, bins = 500)\n",
        "plt.show()"
      ],
      "execution_count": null,
      "outputs": [
        {
          "output_type": "stream",
          "name": "stdout",
          "text": [
            "Histogram of population is shown below: \n"
          ]
        },
        {
          "output_type": "display_data",
          "data": {
            "image/png": "[encoded data removed]",
            "text/plain": [
              "<Figure size 720x504 with 1 Axes>"
            ]
          },
          "metadata": {
            "needs_background": "light"
          }
        },
        {
          "output_type": "stream",
          "name": "stdout",
          "text": [
            "Mean of population is 52.12628445881677\n",
            "Variance of population is 783.7568953525338\n",
            "Enter sample size to draw from population: 25\n",
            "Predicted Mean of Sample Mean Distribution by Central Limit theorem is: 52.12628445881677\n",
            "Predicted Variance of Sample Mean Distribution by Central Limit theorem is: 31.35027581410135\n",
            "Enter the number of samples to draw from population: 500\n",
            "Observed mean of Sample Mean Distribution is 52.03002859677836\n",
            "Observed Variance of Sample Mean Distribution is 32.22368947200798\n",
            "Histogram of Sampling Distribution of Sample Mean is shown below:\n"
          ]
        },
        {
          "output_type": "display_data",
          "data": {
            "image/png": "[encoded data removed]",
            "text/plain": [
              "<Figure size 720x504 with 1 Axes>"
            ]
          },
          "metadata": {
            "needs_background": "light"
          }
        }
      ]
    },
    {
      "cell_type": "markdown",
      "metadata": {
        "id": "6DrYillnrJEt"
      },
      "source": [
        "Solution 22"
      ]
    },
    {
      "cell_type": "code",
      "metadata": {
        "id": "kLKuINOKrK2F",
        "colab": {
          "base_uri": "https://localhost:8080/",
          "height": 1000
        },
        "outputId": "14bd1435-1493-4fc6-f51b-2561ee73e9ff"
      },
      "source": [
        "mu = float(input(\"Enter mean of normal distribution: \"))\n",
        "sigma = float(input(\"Enter standard deviation of normal distribution: \"))\n",
        "population5 = np.random.normal(mu, sigma, 1000)\n",
        "fig, ax = plt.subplots(figsize = (10,7))\n",
        "ax.hist(population5, bins = 500)\n",
        "print(\"Histogram of population is shown below: \")\n",
        "plt.show()\n",
        "print(\"Mean of population is \" + str(np.mean(population5)))\n",
        "print(\"Variance of population is \" + str(np.var(population5)))\n",
        "n = int(input(\"Enter sample size to draw from population: \"))\n",
        "print(\"Predicted Mean of Sample Mean Distribution by Central Limit theorem is: \" + str(np.mean(population5)))\n",
        "print(\"Predicted Variance of Sample Mean Distribution by Central Limit theorem is: \" + str((np.var(population5))/n))\n",
        "m = int(input(\"Enter the number of samples to draw from population: \"))\n",
        "mean_sample = []\n",
        "for i in range(m):\n",
        "  sample_data = random.sample(tuple(population5), n)\n",
        "  mean = st.mean(sample_data)\n",
        "  mean_sample.append(mean)\n",
        "print(\"Observed mean of Sample Mean Distribution is \" + str(np.mean(mean_sample)))\n",
        "print(\"Observed Variance of Sample Mean Distribution is \" + str(np.var(mean_sample)))\n",
        "print(\"Histogram of Sampling Distribution of Sample Mean is shown below:\")\n",
        "fig, ax = plt.subplots(figsize = (10,7))\n",
        "ax.hist(mean_sample, bins = 500)\n",
        "plt.show()"
      ],
      "execution_count": null,
      "outputs": [
        {
          "output_type": "stream",
          "name": "stdout",
          "text": [
            "Enter mean of normal distribution: 25\n",
            "Enter standard deviation of normal distribution: 15\n",
            "Histogram of population is shown below: \n"
          ]
        },
        {
          "output_type": "display_data",
          "data": {
            "image/png": "[encoded data removed]",
            "text/plain": [
              "<Figure size 720x504 with 1 Axes>"
            ]
          },
          "metadata": {
            "needs_background": "light"
          }
        },
        {
          "output_type": "stream",
          "name": "stdout",
          "text": [
            "Mean of population is 25.580310430103527\n",
            "Variance of population is 217.8072522874036\n",
            "Enter sample size to draw from population: 25\n",
            "Predicted Mean of Sample Mean Distribution by Central Limit theorem is: 25.580310430103527\n",
            "Predicted Variance of Sample Mean Distribution by Central Limit theorem is: 8.712290091496143\n",
            "Enter the number of samples to draw from population: 500\n",
            "Observed mean of Sample Mean Distribution is 25.899788361003193\n",
            "Observed Variance of Sample Mean Distribution is 9.746246465627124\n",
            "Histogram of Sampling Distribution of Sample Mean is shown below:\n"
          ]
        },
        {
          "output_type": "display_data",
          "data": {
            "image/png": "[encoded data removed]",
            "text/plain": [
              "<Figure size 720x504 with 1 Axes>"
            ]
          },
          "metadata": {
            "needs_background": "light"
          }
        }
      ]
    },
    {
      "cell_type": "markdown",
      "metadata": {
        "id": "zE4OMPzFrLYe"
      },
      "source": [
        "Solution 23"
      ]
    },
    {
      "cell_type": "code",
      "metadata": {
        "id": "Y2pHpycWrNF6",
        "colab": {
          "base_uri": "https://localhost:8080/",
          "height": 909
        },
        "outputId": "e139b309-b191-4f8c-b5a3-6d9ad42f24b1"
      },
      "source": [
        "# Veryfing Central Limit Theorem for Sampling Distribution for Sample Proportion\n",
        "# Let us take population of size 100\n",
        "# Therefore, the number of smoker in population will be 395 and number of non-smoker will be 605.\n",
        "# If person is smoker, assign them 1 and if a person is non-smoker, then assign 0.\n",
        "list_ones = list(np.ones(395, np.int))\n",
        "list_zeros = list(np.zeros(605, np.int))\n",
        "population5 = list_ones + list_zeros\n",
        "fig, ax = plt.subplots(figsize = (10, 7))\n",
        "ax.hist(population5, bins = 3)\n",
        "print(\"Histogram of Population Distribution is shown below: \")\n",
        "plt.show()\n",
        "n = int(input(\"Enter the size of sample you want to draw from your Population: \"))\n",
        "m = int(input(\"Enter the number of samples you want to draw from your population: \"))\n",
        "sample_proportion = []\n",
        "for i in range(m):\n",
        "  sample_data = random.sample(tuple(population5), n)\n",
        "  proportion = sum(sample_data)/n\n",
        "  sample_proportion.append(proportion)\n",
        "print(\"Histogram of sampling Distribution for Sample Proportion is shown below: \")\n",
        "fig, ax = plt.subplots(figsize = (10, 7))\n",
        "ax.hist(sample_proportion, bins = 500)\n",
        "plt.show()"
      ],
      "execution_count": null,
      "outputs": [
        {
          "output_type": "stream",
          "name": "stdout",
          "text": [
            "Histogram of Population Distribution is shown below: \n"
          ]
        },
        {
          "output_type": "display_data",
          "data": {
            "image/png": "[encoded data removed]",
            "text/plain": [
              "<Figure size 720x504 with 1 Axes>"
            ]
          },
          "metadata": {
            "needs_background": "light"
          }
        },
        {
          "output_type": "stream",
          "name": "stdout",
          "text": [
            "Enter the size of sample you want to draw from your Population: 25\n",
            "Enter the number of samples you want to draw from your population: 500\n",
            "Histogram of sampling Distribution for Sample Proportion is shown below: \n"
          ]
        },
        {
          "output_type": "display_data",
          "data": {
            "image/png": "[encoded data removed]",
            "text/plain": [
              "<Figure size 720x504 with 1 Axes>"
            ]
          },
          "metadata": {
            "needs_background": "light"
          }
        }
      ]
    },
    {
      "cell_type": "code",
      "source": [
        "# Veryfing Central Limit Theorem for Sampling Distribution for Sample Proportion\n",
        "# Let us take population of size 100\n",
        "# Therefore, the number of smoker in population will be 395 and number of non-smoker will be 605.\n",
        "# If person is smoker, assign them 1 and if a person is non-smoker, then assign 0.\n",
        "list_ones = list(np.ones(4, np.int))\n",
        "list_zeros = list(np.zeros(6, np.int))\n",
        "population5 = list_ones + list_zeros\n",
        "print(population5)\n",
        "fig, ax = plt.subplots(figsize = (10, 7))\n",
        "ax.hist(population5, bins = 3)\n",
        "print(\"Histogram of Population Distribution is shown below: \")\n",
        "plt.show()\n",
        "n = int(input(\"Enter the size of sample you want to draw from your Population: \"))\n",
        "m = int(input(\"Enter the number of samples you want to draw from your population: \"))\n",
        "sample_proportion = []\n",
        "for i in range(m):\n",
        "  sample_data = random.sample(tuple(population5), n)\n",
        "  print(sample_data)\n",
        "  proportion = sum(sample_data)/n\n",
        "  sample_proportion.append(proportion)\n",
        "print(sample_proportion)\n",
        "print(\"Histogram of sampling Distribution for Sample Proportion is shown below: \")\n",
        "fig, ax = plt.subplots(figsize = (10, 7))\n",
        "ax.hist(sample_proportion, bins = 500)\n",
        "plt.show()"
      ],
      "metadata": {
        "colab": {
          "base_uri": "https://localhost:8080/",
          "height": 1000
        },
        "id": "YkMwnu3rFB_1",
        "outputId": "90280cfa-aa6e-472e-ff5e-2a4d6e40bcfe"
      },
      "execution_count": null,
      "outputs": [
        {
          "output_type": "stream",
          "name": "stdout",
          "text": [
            "[1, 1, 1, 1, 0, 0, 0, 0, 0, 0]\n",
            "Histogram of Population Distribution is shown below: \n"
          ]
        },
        {
          "output_type": "display_data",
          "data": {
            "image/png": "[encoded data removed]",
            "text/plain": [
              "<Figure size 720x504 with 1 Axes>"
            ]
          },
          "metadata": {
            "needs_background": "light"
          }
        },
        {
          "output_type": "stream",
          "name": "stdout",
          "text": [
            "Enter the size of sample you want to draw from your Population: 2\n",
            "Enter the number of samples you want to draw from your population: 5\n",
            "[0, 0]\n",
            "[0, 0]\n",
            "[0, 1]\n",
            "[0, 1]\n",
            "[0, 0]\n",
            "[0.0, 0.0, 0.5, 0.5, 0.0]\n",
            "Histogram of sampling Distribution for Sample Proportion is shown below: \n"
          ]
        },
        {
          "output_type": "display_data",
          "data": {
            "image/png": "[encoded data removed]",
            "text/plain": [
              "<Figure size 720x504 with 1 Axes>"
            ]
          },
          "metadata": {
            "needs_background": "light"
          }
        }
      ]
    },
    {
      "cell_type": "code",
      "source": [],
      "metadata": {
        "id": "nPvrnLOvgSyb"
      },
      "execution_count": null,
      "outputs": []
    }
  ]
}