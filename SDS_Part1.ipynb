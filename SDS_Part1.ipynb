{
  "cells": [
    {
      "cell_type": "markdown",
      "metadata": {},
      "source": [
        "## SDS Part 1"
      ]
    },
    {
      "cell_type": "code",
      "execution_count": null,
      "metadata": {
        "colab": {
          "background_save": true
        },
        "id": "hpGU9Riss2qx"
      },
      "outputs": [],
      "source": [
        "#This is a comment"
      ]
    },
    {
      "cell_type": "code",
      "execution_count": null,
      "metadata": {
        "colab": {
          "background_save": true
        },
        "id": "2dnMvG39t0qt",
        "outputId": "4e20882c-9b82-4882-c712-6d21feff87ab"
      },
      "outputs": [
        {
          "data": {
            "application/vnd.google.colaboratory.intrinsic+json": {
              "type": "string"
            },
            "text/plain": [
              "'\\nThis is a paragraph\\nThis can also be used for multiline comment.\\n'"
            ]
          },
          "execution_count": null,
          "metadata": {},
          "output_type": "execute_result"
        }
      ],
      "source": [
        "\"\"\"\n",
        "This is a paragraph\n",
        "This can also be used for multiline comment.\n",
        "\"\"\""
      ]
    },
    {
      "cell_type": "markdown",
      "metadata": {
        "id": "lbzWd2U0uF5t"
      },
      "source": [
        "**Primitive Data Types**"
      ]
    },
    {
      "cell_type": "code",
      "execution_count": null,
      "metadata": {
        "colab": {
          "background_save": true
        },
        "id": "URFNgJOHuWQa",
        "outputId": "1dfb218c-96aa-4cc2-fed8-9794e1a5be08"
      },
      "outputs": [
        {
          "name": "stdout",
          "output_type": "stream",
          "text": [
            "5\n",
            "<class 'int'>\n"
          ]
        }
      ],
      "source": [
        "var_1=5\n",
        "print(var_1)\n",
        "print(type(var_1))"
      ]
    },
    {
      "cell_type": "code",
      "execution_count": null,
      "metadata": {
        "colab": {
          "background_save": true
        },
        "id": "oN46-VdUuxQM",
        "outputId": "1ccf01ba-6872-41ba-b7f9-9dd8f15f9f4f"
      },
      "outputs": [
        {
          "name": "stdout",
          "output_type": "stream",
          "text": [
            "This is a string\n",
            "This is also a string\n",
            "<class 'str'>\n",
            "<class 'str'>\n"
          ]
        }
      ],
      "source": [
        "var_2=\"This is a string\"\n",
        "var_3=\"This is also a string\"\n",
        "print(var_2)\n",
        "print(var_3)\n",
        "print(type(var_2))\n",
        "print(type(var_3))"
      ]
    },
    {
      "cell_type": "code",
      "execution_count": null,
      "metadata": {
        "colab": {
          "background_save": true
        },
        "id": "YUL8aW06vMta",
        "outputId": "5ae80f41-7ebd-410d-e0d3-785149b54218"
      },
      "outputs": [
        {
          "name": "stdout",
          "output_type": "stream",
          "text": [
            "5843.5\n",
            "<class 'float'>\n"
          ]
        }
      ],
      "source": [
        "var_4=5843.5\n",
        "print(var_4)\n",
        "print(type(var_4))"
      ]
    },
    {
      "cell_type": "code",
      "execution_count": null,
      "metadata": {
        "colab": {
          "background_save": true
        },
        "id": "GqFb5VW_vbRx",
        "outputId": "347c39fe-63e8-49d1-bf9c-5805e667c785"
      },
      "outputs": [
        {
          "name": "stdout",
          "output_type": "stream",
          "text": [
            "(2+3j)\n",
            "<class 'complex'>\n"
          ]
        }
      ],
      "source": [
        "var_5=2+3j\n",
        "print(var_5)\n",
        "print(type(var_5))"
      ]
    },
    {
      "cell_type": "code",
      "execution_count": null,
      "metadata": {
        "colab": {
          "background_save": true
        },
        "id": "2ZTydYLKvopk",
        "outputId": "0398f4ba-766a-4d0a-c78c-2d142f9dd324"
      },
      "outputs": [
        {
          "name": "stdout",
          "output_type": "stream",
          "text": [
            "True\n",
            "False\n",
            "<class 'bool'>\n"
          ]
        }
      ],
      "source": [
        "bool_1=True\n",
        "bool_2=False\n",
        "print(bool_1)\n",
        "print(bool_2)\n",
        "print(type(bool_1))"
      ]
    },
    {
      "cell_type": "code",
      "execution_count": null,
      "metadata": {
        "colab": {
          "background_save": true
        },
        "id": "BeidXH5Bv7Ke",
        "outputId": "1fde1c25-199a-4506-a44e-8ca2bd4ab2f5"
      },
      "outputs": [
        {
          "name": "stdout",
          "output_type": "stream",
          "text": [
            "b'This is Python'\n",
            "<class 'bytes'>\n"
          ]
        }
      ],
      "source": [
        "#bytes\n",
        "#bytes-creates bytes type of data which is immutable\n",
        "var_6=b\"This is Python\"\n",
        "print(var_6)\n",
        "print(type(var_6))"
      ]
    },
    {
      "cell_type": "code",
      "execution_count": null,
      "metadata": {
        "colab": {
          "background_save": true
        },
        "id": "feE61KycwMoC",
        "outputId": "3663ec15-b7a6-4acd-c1b3-9edaac754920"
      },
      "outputs": [
        {
          "data": {
            "text/plain": [
              "b'\\x00\\x00\\x00\\x00\\x00'"
            ]
          },
          "execution_count": null,
          "metadata": {},
          "output_type": "execute_result"
        }
      ],
      "source": [
        "bytes(5)"
      ]
    },
    {
      "cell_type": "markdown",
      "metadata": {
        "id": "x6zNFYHLwRzx"
      },
      "source": [
        "**Data Structures**\n",
        "* List\n",
        "* Tuples\n",
        "* Sets\n",
        "* Dictionary\n"
      ]
    },
    {
      "cell_type": "code",
      "execution_count": null,
      "metadata": {
        "colab": {
          "background_save": true
        },
        "id": "jJkf6El4wluk"
      },
      "outputs": [],
      "source": [
        "list_1=[]\n"
      ]
    },
    {
      "cell_type": "code",
      "execution_count": null,
      "metadata": {
        "colab": {
          "background_save": true
        },
        "id": "URr7iq4BwuNr"
      },
      "outputs": [],
      "source": [
        "list_1=[1,15,8,6,2,4,7,\"HEllo\",58.256,(5+6j),True]"
      ]
    },
    {
      "cell_type": "code",
      "execution_count": null,
      "metadata": {
        "colab": {
          "background_save": true
        },
        "id": "CXYMFfGjwpud"
      },
      "outputs": [],
      "source": [
        "list_1.append(5)"
      ]
    },
    {
      "cell_type": "code",
      "execution_count": null,
      "metadata": {
        "colab": {
          "background_save": true
        },
        "id": "FNGW7qWoxBIB",
        "outputId": "6f4a9a32-d32e-4376-ec5b-249cfb6cf0c3"
      },
      "outputs": [
        {
          "name": "stdout",
          "output_type": "stream",
          "text": [
            "[1, 15, 8, 6, 2, 4, 7, 'HEllo', 58.256, (5+6j), True, 5]\n"
          ]
        }
      ],
      "source": [
        "print(list_1)"
      ]
    },
    {
      "cell_type": "code",
      "execution_count": null,
      "metadata": {
        "colab": {
          "background_save": true
        },
        "id": "_zkyKOaixj0F",
        "outputId": "4c1501c8-6fff-42ca-a841-1e0d732362c6"
      },
      "outputs": [
        {
          "name": "stdout",
          "output_type": "stream",
          "text": [
            "[1, 15, 8, 6, 2, 4, 7, 'HEllo', 58.256, (5+6j), True, 5]\n"
          ]
        }
      ],
      "source": [
        "list_2=list_1.copy()\n",
        "print(list_2)"
      ]
    },
    {
      "cell_type": "code",
      "execution_count": null,
      "metadata": {
        "colab": {
          "background_save": true
        },
        "id": "cM5aPfEOU1bl",
        "outputId": "74aff1ab-408c-4d5b-d75c-c0bbd43397b3"
      },
      "outputs": [
        {
          "name": "stdout",
          "output_type": "stream",
          "text": [
            "[1, 15, 8, 6, 2, 4, 7, 'HEllo', 58.256, (5+6j), True, 5, 1, 15, 8, 6, 2, 4, 7, 'HEllo', 58.256, (5+6j), True, 5]\n"
          ]
        }
      ],
      "source": [
        "list_3=list_1+list_2\n",
        "print(list_3)"
      ]
    },
    {
      "cell_type": "code",
      "execution_count": null,
      "metadata": {
        "colab": {
          "background_save": true
        },
        "id": "FEUb2UgDVMvV",
        "outputId": "f4c0d76c-8ab8-4c9e-a888-1c12373b8469"
      },
      "outputs": [
        {
          "data": {
            "text/plain": [
              "2"
            ]
          },
          "execution_count": null,
          "metadata": {},
          "output_type": "execute_result"
        }
      ],
      "source": [
        "list_3.count(8)"
      ]
    },
    {
      "cell_type": "code",
      "execution_count": null,
      "metadata": {
        "colab": {
          "background_save": true
        },
        "id": "s4m9S8obVrB6",
        "outputId": "72ac0d61-d517-4421-9d37-e6500fa032e6"
      },
      "outputs": [
        {
          "data": {
            "text/plain": [
              "24"
            ]
          },
          "execution_count": null,
          "metadata": {},
          "output_type": "execute_result"
        }
      ],
      "source": [
        "len(list_3)"
      ]
    },
    {
      "cell_type": "code",
      "execution_count": null,
      "metadata": {
        "colab": {
          "background_save": true
        },
        "id": "AAfVjaKjWFlV",
        "outputId": "dcf5b9a3-c737-4103-cb28-f8a3bc208289"
      },
      "outputs": [
        {
          "name": "stdout",
          "output_type": "stream",
          "text": [
            "[1, 15, 8, 6, 2, 4, 7, 'HEllo', 58.256, (5+6j), True, 5, 1, 15, 8, 6, 2, 4, 7, 'HEllo', 58.256, (5+6j), True, 5, 2, 55, 'Yo']\n"
          ]
        }
      ],
      "source": [
        "list_3.extend([2,55,\"Yo\"])\n",
        "print(list_3)"
      ]
    },
    {
      "cell_type": "code",
      "execution_count": null,
      "metadata": {
        "colab": {
          "background_save": true
        },
        "id": "ivzzDFhWWMc7",
        "outputId": "2ce9fe19-5a2a-4567-c8d2-8fb3cb551b6e"
      },
      "outputs": [
        {
          "name": "stdout",
          "output_type": "stream",
          "text": [
            "[1, 15, 8, 'hi', 6, 2, 4, 7, 'HEllo', 58.256, (5+6j), True, 5]\n"
          ]
        }
      ],
      "source": [
        "list_1.insert(3,\"hi\")\n",
        "print(list_1)"
      ]
    },
    {
      "cell_type": "code",
      "execution_count": null,
      "metadata": {
        "colab": {
          "background_save": true
        },
        "id": "BeFDDYhuWQux",
        "outputId": "d6d7d4b2-38e8-4c14-dfc6-abf96d8fac01"
      },
      "outputs": [
        {
          "name": "stdout",
          "output_type": "stream",
          "text": [
            "[1, 15, 6, 2, 4, 7, 'HEllo', 58.256, (5+6j), True, 5, 1, 15, 8, 6, 2, 4, 7, 'HEllo', 58.256, (5+6j), True, 5, 2, 55, 'Yo']\n"
          ]
        }
      ],
      "source": [
        "list_3.pop(2)\n",
        "print(list_3)"
      ]
    },
    {
      "cell_type": "code",
      "execution_count": null,
      "metadata": {
        "colab": {
          "background_save": true
        },
        "id": "XZVmfK3HWZge",
        "outputId": "3afb5135-0e94-4390-f4ea-f15dec199491"
      },
      "outputs": [
        {
          "name": "stdout",
          "output_type": "stream",
          "text": [
            "[15, 8, 'hi', 6, 2, 4, 7, 'HEllo', 58.256, (5+6j), True, 5]\n"
          ]
        }
      ],
      "source": [
        "list_1.remove(1)\n",
        "print(list_1)"
      ]
    },
    {
      "cell_type": "markdown",
      "metadata": {
        "id": "RgKx6WPdWsKg"
      },
      "source": [
        "**Slicing List Data**"
      ]
    },
    {
      "cell_type": "code",
      "execution_count": null,
      "metadata": {
        "colab": {
          "background_save": true
        },
        "id": "nD_Ixi7RWqS6",
        "outputId": "29c7bde5-6deb-4250-af05-69a1bcd831bb"
      },
      "outputs": [
        {
          "name": "stdout",
          "output_type": "stream",
          "text": [
            "['HEllo', 58.256, (5+6j), True, 5, 2, 55, 'Yo']\n"
          ]
        }
      ],
      "source": [
        "print(list_3[-8:])"
      ]
    },
    {
      "cell_type": "code",
      "execution_count": null,
      "metadata": {
        "colab": {
          "background_save": true
        },
        "id": "apAOj-faRvs3",
        "outputId": "52fd6457-f670-4bf7-9533-098c77a20f30"
      },
      "outputs": [
        {
          "name": "stdout",
          "output_type": "stream",
          "text": [
            "[1, 15, 6, 2]\n"
          ]
        }
      ],
      "source": [
        "print(list_3[0:4])\n",
        "print(list_3[0:2])\n",
        "print(list_3[0:5])\n",
        "print(list_3[0:4])\n",
        "print(list_3[0:6])\n",
        "print(list_3[0:7])"
      ]
    },
    {
      "cell_type": "markdown",
      "metadata": {
        "id": "LiVL2o4RXL7J"
      },
      "source": [
        "**Tuples**\n",
        "* Immutable data types"
      ]
    },
    {
      "cell_type": "code",
      "execution_count": null,
      "metadata": {
        "colab": {
          "background_save": true
        },
        "id": "i1zxciTwW7Zy"
      },
      "outputs": [],
      "source": [
        " tuple_1=(1,2,3.56,'hi',True,6+4j)"
      ]
    },
    {
      "cell_type": "code",
      "execution_count": null,
      "metadata": {
        "colab": {
          "background_save": true
        },
        "id": "z64CIbJbXw0d",
        "outputId": "3b175bb6-e1bf-4186-d352-ee9638864764"
      },
      "outputs": [
        {
          "name": "stdout",
          "output_type": "stream",
          "text": [
            "0\n"
          ]
        }
      ],
      "source": [
        "print(tuple_1.index(True))"
      ]
    },
    {
      "cell_type": "code",
      "execution_count": null,
      "metadata": {
        "colab": {
          "background_save": true
        },
        "id": "HqIHOdirX0h7"
      },
      "outputs": [],
      "source": [
        "tuple_2=(2,5,97,True,\"Hello\")\n",
        "tuple_3=tuple_1+tuple_2"
      ]
    },
    {
      "cell_type": "code",
      "execution_count": null,
      "metadata": {
        "colab": {
          "background_save": true
        },
        "id": "P6dThP1UYTBy",
        "outputId": "69b9578d-a027-4214-c019-2be52b7d63fe"
      },
      "outputs": [
        {
          "data": {
            "application/vnd.google.colaboratory.intrinsic+json": {
              "type": "string"
            },
            "text/plain": [
              "'hi'"
            ]
          },
          "execution_count": null,
          "metadata": {},
          "output_type": "execute_result"
        }
      ],
      "source": [
        "tuple_3[3]"
      ]
    },
    {
      "cell_type": "markdown",
      "metadata": {
        "id": "mA_TsJAXYpWZ"
      },
      "source": [
        "**Dictionary**\n",
        "* It has key and value pairs\n",
        "* Keys must be unique values"
      ]
    },
    {
      "cell_type": "code",
      "execution_count": null,
      "metadata": {
        "colab": {
          "background_save": true
        },
        "id": "ECUl-1ACYZS8",
        "outputId": "db61aad9-9fda-4768-d2d9-fc76c7860dcb"
      },
      "outputs": [
        {
          "name": "stdout",
          "output_type": "stream",
          "text": [
            "{'A': 'Apple', 'B': 'Boat', 'C': 'Canada', 'D': 'Delhi'}\n"
          ]
        }
      ],
      "source": [
        "dict_1={'A':'Apple','B':'Boat','C':'Canada','D':'Delhi'}\n",
        "print(dict_1)"
      ]
    },
    {
      "cell_type": "code",
      "execution_count": null,
      "metadata": {
        "colab": {
          "background_save": true
        },
        "id": "A3VR15pTZDTs",
        "outputId": "86cb6eb9-7904-4a1c-8643-575afd210cf2"
      },
      "outputs": [
        {
          "name": "stdout",
          "output_type": "stream",
          "text": [
            "Apple\n"
          ]
        }
      ],
      "source": [
        "print(dict_1['A'])"
      ]
    },
    {
      "cell_type": "code",
      "execution_count": null,
      "metadata": {
        "colab": {
          "background_save": true
        },
        "id": "d1gRWj08ZHWs"
      },
      "outputs": [],
      "source": [
        "#Multidimensional Dictionary\n",
        "fruits={'fruit_name':\n",
        "        {'Apple':{'Colour':'Red','Shape':'Round'},\n",
        "         'Orange':{'Colour':'Orange','Shape':'Round'}\n",
        "         }}"
      ]
    },
    {
      "cell_type": "code",
      "execution_count": null,
      "metadata": {
        "colab": {
          "background_save": true
        },
        "id": "VlG6_aZOZpfk",
        "outputId": "e83bf2fb-7bd3-4d41-e059-38d73e8eeeca"
      },
      "outputs": [
        {
          "data": {
            "text/plain": [
              "{'Colour': 'Red', 'Shape': 'Round'}"
            ]
          },
          "execution_count": null,
          "metadata": {},
          "output_type": "execute_result"
        }
      ],
      "source": [
        "fruits['fruit_name']['Apple']"
      ]
    },
    {
      "cell_type": "markdown",
      "metadata": {
        "id": "6I3p2-QFZ03C"
      },
      "source": [
        "**If Else condition**"
      ]
    },
    {
      "cell_type": "code",
      "execution_count": null,
      "metadata": {
        "colab": {
          "background_save": true
        },
        "id": "WFCNjJF8ZunH",
        "outputId": "7bb01433-6a04-4c41-e2e6-b997c22aec28"
      },
      "outputs": [
        {
          "name": "stdout",
          "output_type": "stream",
          "text": [
            "Sister is elder\n"
          ]
        }
      ],
      "source": [
        "b_age=12\n",
        "s_age=15\n",
        "if b_age>s_age:\n",
        "  print(\"Brother is elder\")\n",
        "elif s_age>b_age:\n",
        "  print(\"Sister is elder\")\n",
        "else:\n",
        "  print(\"They are twins\")"
      ]
    },
    {
      "cell_type": "code",
      "execution_count": null,
      "metadata": {
        "colab": {
          "base_uri": "https://localhost:8080/"
        },
        "id": "A-exSqBAaN94",
        "outputId": "6dcf3e0d-6abe-4aa6-ad21-e6da87c60ce0"
      },
      "outputs": [
        {
          "name": "stdout",
          "output_type": "stream",
          "text": [
            "Enter brother's age:52\n"
          ]
        }
      ],
      "source": [
        "b_age=int(input(\"Enter brother's age:\"))\n",
        "s_age=int(input(\"Enter sister's age:\"))\n",
        "if b_age>s_age:\n",
        "  print(\"Brother is elder\")\n",
        "elif s_age>b_age:\n",
        "  print(\"Sister is elder\")\n",
        "else:\n",
        "  print(\"They are twins\")\n"
      ]
    },
    {
      "cell_type": "markdown",
      "metadata": {
        "id": "4JOmjSHGawi7"
      },
      "source": [
        "**For Loop**"
      ]
    },
    {
      "cell_type": "code",
      "execution_count": null,
      "metadata": {
        "id": "F3dO4vRgac7a"
      },
      "outputs": [],
      "source": [
        "l1=['A','5448132',True,False,5.26,5+9j]\n",
        "for i in l1:\n",
        "  print(i)"
      ]
    },
    {
      "cell_type": "code",
      "execution_count": null,
      "metadata": {
        "id": "6bz7uYKhazC1"
      },
      "outputs": [],
      "source": [
        "l1=['A','5448132',True,False,5.26,5+9j]\n",
        "for i,j in enumerate(l1):\n",
        "  print(i,j)"
      ]
    },
    {
      "cell_type": "markdown",
      "metadata": {
        "id": "UCP14m2TbWGG"
      },
      "source": [
        "**Functions**"
      ]
    },
    {
      "cell_type": "code",
      "execution_count": null,
      "metadata": {
        "id": "G01PH4xFbI2g"
      },
      "outputs": [],
      "source": [
        "def simple_addition(a,b):\n",
        "  sum=a+b\n",
        "  print(\"Sum is \",sum)"
      ]
    },
    {
      "cell_type": "code",
      "execution_count": null,
      "metadata": {
        "id": "5A_D7H4SbhmQ"
      },
      "outputs": [],
      "source": [
        "simple_addition(5,9)"
      ]
    },
    {
      "cell_type": "code",
      "execution_count": null,
      "metadata": {
        "id": "hk4VJl8RbjYF"
      },
      "outputs": [],
      "source": [
        "n1=int(input(\"Enter value 1: \"))\n",
        "n2=int(input(\"Enter Value 2: \"))\n",
        "simple_addition(n1,n2)"
      ]
    },
    {
      "cell_type": "code",
      "execution_count": null,
      "metadata": {
        "id": "4Iw97aRfcEOJ"
      },
      "outputs": [],
      "source": [
        "n1=input(\"Enter value 1: \")\n",
        "n2=input(\"Enter Value 2: \")\n",
        "simple_addition(n1,n2)"
      ]
    },
    {
      "cell_type": "markdown",
      "metadata": {
        "id": "NMPB3pG8cfM8"
      },
      "source": [
        "**Sets**"
      ]
    },
    {
      "cell_type": "code",
      "execution_count": null,
      "metadata": {
        "id": "32PW_rS-cYk8"
      },
      "outputs": [],
      "source": [
        "set_1={1,5,8,2,3,97}\n",
        "print(set_1)\n",
        "print(type(set_1))"
      ]
    },
    {
      "cell_type": "code",
      "execution_count": null,
      "metadata": {
        "id": "GqL6wa4UeHxn"
      },
      "outputs": [],
      "source": [
        "set_2={1,5,9,4,3,6,7,5}\n",
        "print(len(set_2))\n"
      ]
    },
    {
      "cell_type": "code",
      "execution_count": null,
      "metadata": {
        "id": "YXVTP2WQeTJh"
      },
      "outputs": [],
      "source": [
        "set_3={1,5,3,'hi','HI'}"
      ]
    },
    {
      "cell_type": "code",
      "execution_count": null,
      "metadata": {
        "id": "4BIJpt2VeiDZ"
      },
      "outputs": [],
      "source": []
    }
  ],
  "metadata": {
    "colab": {
      "provenance": []
    },
    "kernelspec": {
      "display_name": "Python 3",
      "name": "python3"
    },
    "language_info": {
      "name": "python"
    }
  },
  "nbformat": 4,
  "nbformat_minor": 0
}
